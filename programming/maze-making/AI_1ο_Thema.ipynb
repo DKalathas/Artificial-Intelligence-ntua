{
  "nbformat": 4,
  "nbformat_minor": 0,
  "metadata": {
    "colab": {
      "name": "AI_21_EX1 (2).ipynb",
      "provenance": [],
      "collapsed_sections": []
    },
    "kernelspec": {
      "display_name": "Python 3",
      "language": "python",
      "name": "python3"
    },
    "language_info": {
      "codemirror_mode": {
        "name": "ipython",
        "version": 3
      },
      "file_extension": ".py",
      "mimetype": "text/x-python",
      "name": "python",
      "nbconvert_exporter": "python",
      "pygments_lexer": "ipython3",
      "version": "3.8.5"
    }
  },
  "cells": [
    {
      "cell_type": "markdown",
      "metadata": {
        "id": "bxSfB7E17vMw"
      },
      "source": [
        "## Ομάδα \n",
        "\n",
        "Στοιχεία Μέλους 1: Δημήτρης Καλαθάς 03118016\n",
        "\n",
        "Στοιχεία Μέλους 2: Δημήτρης Μπακάλης 0318163"
      ]
    },
    {
      "cell_type": "markdown",
      "metadata": {
        "id": "CCcGFAb8nULW"
      },
      "source": [
        "# Τεχνητή Νοημοσύνη: Εργαστηριακή Άσκηση 1\n",
        "\n",
        "    \n",
        "\n",
        "---\n",
        "\n",
        "\n",
        "\n",
        "Ο στόχος της εργασίας είναι η εφαρμογή αλγορίθμων αναζήτησης και εύρεσης καλύτερου μονοπατιού σε λαβύρινθο διαστάσεων $N\\times N$\n"
      ]
    },
    {
      "cell_type": "markdown",
      "metadata": {
        "id": "PPcLy1P7naLP"
      },
      "source": [
        "# Εκφώνηση\n",
        "\n",
        "## Μέρος 1\n",
        "Ο στόχος του πρώτου μέρους είναι η κατασκευή **λαβυρίνθων**. [Σε αυτό το άρθρο της Wikipedia](https://en.wikipedia.org/wiki/Maze_generation_algorithm) μπορείτε να βρείτε διάφορους αλγορίθμους για αυτό το σκοπό. Προσέξτε ότι οι αλγόριθμοι του παραπάνω άρθρου κατασκευάζουν ένα μόνο μονοπάτι από κάθε σημείο του λαβυρίνθου προς οποιοδήποτε άλλο (η δομή του λαβυρίνθου έχει μορφή συνεκτικού δέντρου). Καλείστε να τροποποιήσετε τον αλγόριθμο της επιλογής σας (ενδεχομένως και πέραν αυτών που υπάρχουν στο προαναφερθέν άρθρο) ώστε οι λαβύρινθοι που κατασκευάζει να έχουν τουλάχιστον δύο (2) μονοπάτια μεταξύ ενός σημείου αφετηρίας (S) και ενός σημείου τερματισμού (F). Η τροποποίηση του αλγορίθμου μπορεί να γίνει και με πιθανοτικό τρόπο, αλλά σε αυτή την περίπτωση θα πρέπει να βεβαιωθείτε πως οι λαβύρινθοι που θα χρησιμοποιήσετε στα επόμενα ερωτήματα έχουν τουλάχιστον δύο μονοπάτια μεταξύ των S και F. Αναφέρετε ποιον αλγόριθμο επιλέξατε, περιγράψτε τον συνοπτικά καθώς και τον τρόπο που αντιμετωπίσατε το παραπάνω πρόβλημα, και υλοποιήστε τον στο κελί κώδικα του Μέρους 1.\n",
        "\n",
        "Σε όλα τα ερωτήματα φροντίστε να χρησιμοποιήσετε **δομημένο** κώδικα, με **σχόλια** που επισημαίνουν τη λογική του.\n",
        "\n",
        "\n",
        "### Παραδείγματα λαβυρίνθων\n",
        "![index1.png](data:image/png;base64,iVBORw0KGgoAAAANSUhEUgAAAOsAAADrCAYAAACICmHVAAAABHNCSVQICAgIfAhkiAAAAAlwSFlzAAALEgAACxIB0t1+/AAAADh0RVh0U29mdHdhcmUAbWF0cGxvdGxpYiB2ZXJzaW9uMy4yLjIsIGh0dHA6Ly9tYXRwbG90bGliLm9yZy+WH4yJAAADhUlEQVR4nO3dwW0UMQCGURvRB0VsBXRBi+mCCuiBOz0MlxyDYJF3x9/se8ckGo3W+uRIkf7M4zgGsL9PZ78A8G/EChFihQixQoRYIUKsEPH5nh+ec/o7DzzYcRzzo6+7WSFCrBAhVogQK0SIFSLEChFihQixQoRYIUKsECFWiBArRIgVIsQKEWKFCLFChFghQqwQcdesy2o7/zeA29vXpc/78e370uft/Nm9mjk/XGFZzs0KEWKFCLFChFghQqwQIVaIECtEiBUixAoRYoUIsUKEWCFCrBAhVogQK0SIFSLEChFihQixQsSpG0yrPWsL54pe6bOr7le5WSFCrBAhVogQK0SIFSLEChFihQixQoRYIUKsECFWiBArRIgVIsQKEWKFCLFChFghQqwQcalZl53nOl5pNmWMvc+iys0KEWKFCLFChFghQqwQIVaIECtEiBUixAoRYoUIsUKEWCFCrBAhVogQK0SIFSLEChFihQixQsSlNphW7hzZENqLs3WzQoZYIUKsECFWiBArRIgVIsQKEWKFCLFChFghQqwQIVaIECtEiBUixAoRYoUIsUKEWCFCrBBxqQ2mnbd1dn63Ap+fmxUyxAoRYoUIsUKEWCFCrBAhVogQK0SIFSLEChFihQixQoRYIUKsECFWiBArRIgVIsQKEWKFiEttMM05z34FHmTl2Vb3nNysECFWiBArRIgVIsQKEWKFCLFChFghQqwQIVaIECtEiBUixAoRYoUIsUKEWCFCrBAhVogQK0RcaoOpuq3D360827fbbdmznsnNChFihQixQoRYIUKsECFWiBArRIgVIsQKEWKFCLFChFghQqwQIVaIECtEiBUixAoRYoUIsULEpTaY5pxnvwLvVu9hOVs3K2SIFSLEChFihQixQoRYIUKsECFWiBArRIgVIsQKEWKFCLFChFghQqwQIVaIECtEiBUiLjXrsnpKhH3sfLbPmpxxs0KEWCFCrBAhVogQK0SIFSLEChFihQixQoRYIUKsECFWiBArRIgVIsQKEWKFCLFChFghQqwQceoG07O2a+AK3KwQIVaIECtEiBUixAoRYoUIsUKEWCFCrBAhVogQK0SIFSLEChFihQixQoRYIUKsECFWiBArRNy7wfRrjPHzES8CjDHG+PKnb8zjOJ75IsB/8mswRIgVIsQKEWKFCLFChFghQqwQIVaIECtE/AZROUHZqFYHAAAAAABJRU5ErkJggg==)\n",
        "![index2.png](data:image/png;base64,iVBORw0KGgoAAAANSUhEUgAAAOsAAADrCAYAAACICmHVAAAABHNCSVQICAgIfAhkiAAAAAlwSFlzAAALEgAACxIB0t1+/AAAADh0RVh0U29mdHdhcmUAbWF0cGxvdGxpYiB2ZXJzaW9uMy4yLjIsIGh0dHA6Ly9tYXRwbG90bGliLm9yZy+WH4yJAAAEvklEQVR4nO3d0W0bRxRA0WWQPlKEKkgXadFduAL3kP/0wPwKiBQu7eHwXeqcz9iIhyNfjIE3u7xcr9cDmO+3Zy8AOEesECFWiBArRIgVIsQKEb/f85svl4s5DzzY9Xq9fPTfnawQIVaIECtEiBUixAoRYoUIsULEXXPWMzxyB5+7XD4coZ7iZIUIsUKEWCFCrBAhVogQK0SIFSKWz1lvOTNnOjOr/ZV51Ve2am9v/X++6s/nkfcMnKwQIVaIECtEiBUixAoRYoUIsUKEWCFi+6WInVYMqN++/Xnz9/z46/vD13FW6TLCrgsaqzx7b52sECFWiBArRIgVIsQKEWKFCLFChFghYuSliF3D52cPud+bNPx/Na+yt05WiBArRIgVIsQKEWKFCLFChFghQqwQsf1SRGH4/N6ur/JYtS9T9nfKOl6JkxUixAoRYoUIsUKEWCFCrBAhVohYPmed9ED3FKv2ZNfM9ww/5/2crBAhVogQK0SIFSLEChFihQixQoRYIWL5pQgPHf/XpD2ZtBbu42SFCLFChFghQqwQIVaIECtEiBUixAoR29/Iv/MNA7cuAEx624G1cIuTFSLEChFihQixQoRYIUKsECFWiMh+8/muWeCkh7Wt5ee8ytzYyQoRYoUIsUKEWCFCrBAhVogQK0SIFSKWX4pYMYAuDdyPY9bQfcpazqzjzM95yueZwMkKEWKFCLFChFghQqwQIVaIECtEiBUill+KqF1o2GHSnkxayxkr1rvqYsWz987JChFihQixQoRYIUKsECFWiBArRIgVIrZ/fcaqNwiUTBrKT3rzwivuyyP/7jpZIUKsECFWiBArRIgVIsQKEWKFiO1z1kl2zXMnzY0nrWWSwr44WSFCrBAhVogQK0SIFSLEChFihQixQsSXvhTxig9irzBpLZM8e1+crBAhVogQK0SIFSLEChFihQixQoRYIWL7pYhJT+RPWssZpTdbfMVvXjiO25/pVy5WOFkhQqwQIVaIECtEiBUixAoRYoUIsULE9ksRz37a/r1Ja1ll12fadaFhxeWKV7mg4WSFCLFChFghQqwQIVaIECtEiBUiRr6Rv/SQ9SqvNh9dZcV6a5/5M05WiBArRIgVIsQKEWKFCLFChFghQqwQMfJSxBmTLhHcWsuqofyuzzzpofxJa3k2JytEiBUixAoRYoUIsUKEWCFCrBAhVojYfili51P7j/zK+NUmXZyovVmhtt6f5WSFCLFChFghQqwQIVaIECtEiBUivvQ3n++y6jOvmCfuWsvObxuf9HfqkTNfJytEiBUixAoRYoUIsUKEWCFCrBAhVogY+Ub+XQ8Tr/pzSpcVanbtbWHfnKwQIVaIECtEiBUixAoRYoUIsUKEWCFi5KWISW8z2LGOsya9EWGF2kWQZ1+ucLJChFghQqwQIVaIECtEiBUixAoRYoWI7ZciJj2RP+mywqR9qfn29va/v/4qe+tkhQixQoRYIUKsECFWiBArRIgVIi73zKAul8trDKxgsOv1+uHg3skKEWKFCLFChFghQqwQIVaIECtEiBUi7n34/J/jOP5+xEKA4ziO44/PfuGuG0zA8/hnMESIFSLEChFihQixQoRYIUKsECFWiBArRPwLUNQF44aEdWwAAAAASUVORK5CYII=)\n",
        "![index3.png](data:image/png;base64,iVBORw0KGgoAAAANSUhEUgAAAOsAAADrCAYAAACICmHVAAAABHNCSVQICAgIfAhkiAAAAAlwSFlzAAALEgAACxIB0t1+/AAAADh0RVh0U29mdHdhcmUAbWF0cGxvdGxpYiB2ZXJzaW9uMy4yLjIsIGh0dHA6Ly9tYXRwbG90bGliLm9yZy+WH4yJAAAH20lEQVR4nO3dwZXbNhQFUConfaQHp4JU4RaTKlKBi8g+PUxWs7AiWySFD/wn3rtLPCYoat6BQQAft4+Pjw3o75fVNwDsI6wQQlghhLBCCGGFEMIKIX498sO32808DxT7+Pi4Pfr/elYIIawQ4tA/g++dWf10u33fw1etoBrRzqx7neFqzz3pu7u/1x/Rs0IIYYUQwgohhBVCvPSC6ZGjA/s9g+v7a1S8gNhznb0vAn7m2WcZ5Z2e+4hrjPi8e1Q8s096VgghrBBCWCHE8DHrM7Mmpyva6Xzvz8ZXne/dNfbRs0IIYYUQwgohysesVfOIs9uY2e6I8WfSc6+414prPnruM3/39KwQQlghhLBCiPIx66pNv8/WZJ5ZK7rHqs/beXP1USPW0454HiPWBo9sR88KIYQVQggrhBBWCDF9If+syeozRtzb0QUNqxZ07NFlo/y9Lvexh83ncEHCCiGEFUK03Hw+Y1K88yKCLlXsn5nRxtl29zyPWfcyip4VQggrhBBWCLF88/mqcU+SVaeqnXnOFae3VW26qLiPSnpWCCGsEEJYIcTwMev92OH3v/747r+/ff17dJOt50xn6VKQumJ+u+r7PXrdPXO1lb+LelYIIawQQlghhLBCiNuRAfHtdhs+eh6xwHp1pfR3deYU7xmnhY+qOljxezboXh/+JT0rhBBWCCGsEOKlRRFXO0373qPxSPICjc7F7I5ec1Y1/RHXVJEf3oywQghhhRDDF/J3Lbq1qjhWxTzcCLPG1iM2jq/afF6xYV+Rb7gAYYUQwgohhBVClFc3PPNCJaWaftfFGiuNeFl09JpnrVoEcZaeFUIIK4QQVggx/RS5e1WLFWYsSp9xUvpKz+6ty2KFqr8zwsh29awQQlghhLBCiPKK/KN/ftvmzdWtmhN8t7nX0UadfD6DzedwQcIKIYQVQrw0Zq2au5ox3phV7KzrnGBSYfRVG9grvjubz+EChBVCCCuEEFYIEVGRf1W7V1/g0PX7nbWBYMQ1LOSHCxJWCCGsEGJ5Rf4RbYwaW737ZvJXdf5sFUUMOhV32zY9K8QQVgghrBBiepHvLrpsYB61oWDFZuuu3+221TyPM5sfRj4jPSuEEFYIIawQonzMOuPE8T1tVKwnnTXvOGL8tepeR6g6LX7FmoBX6FkhhLBCCGGFEMIKIZZX5H/k6KB81QuXTosCRpyEMOJF1ozvf1SV+4pT2o+2caQdPSuEEFYIIawQYnlF/qpxX8VC7llV3UfcR4WqdmcUSOtySruK/HABwgohhBVCRBb5nqViHi75mXUp+r1q/LmynW3Ts0IMYYUQwgohhBVCRFbkrzKjUl3VQpKKzQ+zvssuz7VDGz+jZ4UQwgohhBVCRG4+73Kqded2uz6jzps/utOzQghhhRDCCiEiNp+/84nke06RO3PvMza9VxVde3bNKjMKB9h8DhcgrBBCWCFExObzVfNqXYpez7hmJxXj3K7zzkfoWSGEsEIIYYUQwgohIjefd64M/2obZ9tJWvRx5meemXGS4OoTGfSsEEJYIYSwQoiWm89ntNmlqntVG6s2jndd0LBHxe+Rk8/hgoQVQggrhFi++bxK17nKGRucH6k48W7UvR8dK656ZqsLo+tZIYSwQghhhRDCCiGGV4pYNaH9TJdqE/dG3VfFKXIj/s69qoUVyScsWBQBb0ZYIYSwQojhC/mf6VLlvKoSfpcN7M90OtV8xukBXa6pIj9cgLBCCGGFENPHrPeSNo7PGNM+sqpQ26x77XpqQbd3A3pWCCGsEEJYIcTyMeuI8WfnTfD3VhUdG9FG1brvijF50u/EXnpWCCGsEEJYIYSwQojpFflnTVZffRN8l8+7R0V1w6TPv5eeFUIIK4QQVggRefL5CF3uc88m+Kp2Ol7z0XVXbX6oYPM5XICwQghhhRDlC/m7Ftd+5Oi97vn5rvOqSYW0742694qxceUz0rNCCGGFEMIKIaaffN6lyPcjRzdsz5pnPPrnVe2usuq+us336lkhhLBCCGGFEMIKIYaffD7iGjMmmqtON3v2EqrzIpGjVSSrPsuZapZdTz4f+XumZ4UQwgohhBVCRG4+r1qMsWLcM2rDwdHrVD2PLoteVm22r3xnoWeFEMIKIYQVQrTcfD6jUPgIs+YZ32mOdI+K8eafX7787/99/fbt0DVWb9jXs0IIYYUQwgohhBVC3I4MgG+323c/PGJyvpMZlSD2tDHiPs5Mznf97kY8s1mfd9B39/Av6VkhhLBCCGGFENNPPk/WdYPzth2vzDiq3WQzFnDYfA4XJKwQQlghRMTm81mV8I+adR9nFuGPuLcz47Eu3829Efe16t3BJz0rhBBWCCGsEKLlPGvlv/tH3scjXediVxUbr2hnVvG7bt+/nhVCCCuEEFYIIawQ4qUXTF0mmkdZ9TKkop0RVewrFqPMemnTZXGGivxwQcIKIYQVQkw/+bxLdflVY5rkDd1VJ93fm/UuJOU+PulZIYSwQghhhRDLN5/POoG76+L/VWPnqtPju+iyCN88K1yQsEIIYYUQLTefd2hjTzudTw+vuGbSHPGs4mYzn4meFUIIK4QQVgghrBDipZPPgfGcfA7hhBVCCCuEOLoo4t9t2/6puBFg27Zt++1Hf3DoBROwjn8GQwhhhRDCCiGEFUIIK4QQVgghrBBCWCGEsEKI/wCje0vM8cKhIgAAAABJRU5ErkJggg==)"
      ]
    },
    {
      "cell_type": "markdown",
      "metadata": {
        "id": "hrKnkVsr61N-"
      },
      "source": [
        "## Μέρος 2\n",
        "\n",
        "Στο δεύτερο μέρος της εργασίας θα υλοποιήσετε τον αλγόριθμο Α* για την εύρεση συντομότερων μονοπατιών μεταξύ δυο κόμβων για τους λαβυρίνθους που παράγονται από τον κώδικα του πρώτου μέρους. Θα κατασκευάσετε και διάφορες συναρτήσεις κόστους τόσο για την μέτρηση των πραγματικών αποστάσεων όσο και για την εκτίμηση των αποστάσεων από έναν κόμβο στον κόμβο στόχο (heuristic).\n",
        "\n",
        "Η γενική μορφή της συνάρτησης κόστους στον αλγόριθμο Α* είναι:\n",
        "$$f(n)=g(n)+h(n)$$\n",
        "Παραπάνω, η συνάρτηση $g(n)$ δίνει την πραγματική απόσταση από το σημείο εκκίνησης μέχρι τον κόμβο $n$, και η συνάρτηση $h(n)$ αποτελεί μια ευριστική της απόστασης από τον κόμβο $n$ μέχρι τον στόχο. Σας ζητείται να πειραματιστείτε με τις εξής επιλογές για τις δύο συναρτήσεις:\n",
        "* $g(n)=0$ και $h(n)=\\{\\text{manhattan}(n),\\text{euclidean}(n)\\}$. Ποιος αλγόριθμος αναζήτησης προκύπτει; Μπορεί να βρει πάντα το βέλτιστο μονοπάτι;\n",
        "* $g(n)=1$ και $h(n)=0$. Ποιος αλγόριθμος αναζήτησης προκύπτει; Μπορεί να βρει πάντα το βέλτιστο μονοπάτι;\n",
        "* $g(n)=1$ και $h(n)=\\{\\text{manhattan}(n),\\text{euclidean}(n)\\}$. Ποιος αλγόριθμος αναζήτησης προκύπτει; Μπορεί να βρει πάντα το βέλτιστο μονοπάτι;\n",
        "\n",
        "Μπορείτε να προτείνετε και άλλες ευριστικές συναρτήσεις εκτός από τις αποστάσεις manhattan και euclidean;"
      ]
    },
    {
      "cell_type": "markdown",
      "metadata": {
        "id": "HBVzpYPF9WC_"
      },
      "source": [
        "## Μέρος 3\n",
        "\n",
        "Στο τρίτο μέρος καλείστε να συγκρίνετε την απόδοση των αλγορίθμων που υλοποιήσατε στο πρώτο μέρος, με βάση την πολυπλοκότητά τους και το κατά πόσο μπορούν να βρούν το βέλτιστο μονοπάτι. \n",
        " \n",
        "Αρχικά, θα πρέπει να κατασκευάσετε πλήθος λαβυρίνθων με μέγεθος $N\\in[10,11, \\ldots,50]$ (τουλάχιστον 10 λαβυρίνθους για κάθε Ν).\n",
        "\n",
        "Έπειτα, για τους τρεις αλγορίθμους που υλοποιήσατε στο δεύτερο μέρος, καθώς και για ό,τι επιπλέον υλοποιήσατε (πχ επιπλέον ευριστικές), ζητείται να συλλέξετε τα εξής χαρακτηριστικά:\n",
        " * το μήκος του ελάχιστου μονοπατιού που εξάγει ο εκάστοτε αλγόριθμος.\n",
        " * το πλήθος των επεκτεταμένων κόμβων (expanded nodes) του κάθε αλγορίθμου, που αποτελεί μέτρο της πολυπλοκότητάς του.\n",
        " \n",
        "Για να σας είναι εύκολο να εξάγετε συμπεράσματα από τις παραπάνω παραμετροποιήσεις, ζητείται να κατασκευάσετε δύο γραφικές παραστάσεις:\n",
        " * το μήκος του ελάχιστου μονοπατιού συναρτήσει του μεγέθους του χάρτη\n",
        " * το πλήθος των expanded nodes συναρτήσει του μεγέθους του χάρτη\n",
        "\n",
        "Ένα παράδειγμα φαίνεται παρακάτω:\n",
        "\n",
        "![image.png](data:image/png;base64,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)\n",
        "\n",
        " Σας ζητείται σχολιάσετε τιςγραφικές παραστάσεις που θα φτιάξετε, και συγκεκριμένα το πώς μεταβάλλεται η συμπεριφορά των αλγορίθμων συναρτήσει του $N$.\n",
        " \n",
        " Σημειώνουμε τα παρακάτω:\n",
        " \n",
        " * Σε όλα τα παραπάνω πειράματα μπορείτε να λάβετε σαν σημείο εκκίνησης το $(1,1)$ και σαν σημείο τερματισμού $(N-2,N-2)$. Εναλλακτικά, μπορείτε να πειραματιστείτε με τυχαία σημεία εκκινησης και τερματισμού.\n",
        " * Αν και οι χάρτες παράγονται τυχαία, η εκτέλεση αλγορίθμων σε διαφορετικούς χάρτες παράγει μη συγκρίσιμα αποτελέσματα, οπότε οι αλγόριθμοι πρέπει να τρέξουν στους ίδιους χάρτες.\n",
        " * Για λόγους ευκολίας σύγκρισης, προτείνεται να τοποθετήσετε πολλαπλές γραφικές παραστάσεις στο ίδιο σύστημα αξόνων, όπου αυτό είναι εφικτό.\n",
        "\n",
        "Για το πως κατασκευάζουμε γραφικές παραστάσεις μέσω python, μπορείτε να βρείτε παραδείγματα στον κώδικα που δίνεται, καθώς και (για το ζητούμενο της άσκησης) [εδώ](https://www.kite.com/python/answers/how-to-make-multiple-plots-on-the-same-figure-in-matplotlib-in-python) .\n",
        "\n",
        "## **Visualization**\n",
        "Παράλληλα με τα παραπάνω σας δίνεται έτοιμη και μια κλάση η όποια κατασκευάζει ένα animation της αναζήτησης το όποιο υλοποιεί κάθε αλγόριθμος. Για την χρήση της κλάσης αυτής πρέπει να κάνετε τα εξής 4 βήματα:\n",
        "\n",
        "1.\tΔημιουργία ενός instance της κλάσης εκτελώντας την παρακάτω εντολή: `visualization(Start, Goal)`. Η εντολή αυτή δημιουργεί ένα αντικείμενο τύπου visualization. \n",
        "2.\tΤο βίντεο που παράγεται κάθε φορά ουσιαστικά αποτελείται από stacked frames. Συνεπώς σε κάθε βήμα εκτέλεσης όπου δηλαδή θέλουμε να προσθέσουμε ένα frame στο βίντεο πρέπει να καλέσουμε την μέθοδο της κλάσης: `draw_step(grid, frontier, expanded_nodes)` όπου το πρώτο όρισμα είναι ένας χάρτης (τύπου Maze) το δεύτερο μια λίστα με το μέτωπο της αναζήτηση ενώ το τρίτο μια λίστα με τους κόμβους οι όποιοι έχουν ήδη επεκταθεί από τον αλγόριθμο. \n",
        "3.\t(Προαιρετικό) Αν θέλουμε να προσθέσουμε στο animation και το βέλτιστο μονοπάτι που βρήκε ο αλγόριθμός μας μπορούμε να καλέσουμε την μέθοδο add_path(path) η οποία δέχεται σαν όρισμα μια λίστα με όλους τους κόμβους που ανήκουν στο βέλτιστο μονοπάτι (συμπεριλαμβανομένων και των κόμβων αρχής και τέλους).\n",
        "4.\tΤέλος καλούμε την συνάρτηση `show_gif()` η όποια εμφανίζει το animation. Επίσης μπορούμε και να αποθηκεύσουμε το gif καλώντας την συνάρτηση `save_gif (filename)` (το αρχείο πρέπει να έχει κατάληξη .gif) καθώς επίσης μπορούμε να εμφανίσουμε μόνο το τελευταίο frame καλώντας την συνάρτηση `show_last_frame()` στο όποιο (αν έχουν γίνει όλα όπως παραπάνω) θα φαίνονται όλοι οι κόμβοι οι οποίοι έχουν επεκταθεί από τον αλγόριθμο, το τελευταίο μέτωπο και (προαιρετικά) και το βέλτιστο μονοπάτι.\n",
        "\n",
        "Μπορείτε να καταλήξετε στα ίδια συμπεράσματα όσον αφορά την πολυπλοκότητα των αλγορίθμων παρατηρώντας το visualization; \n"
      ]
    },
    {
      "cell_type": "markdown",
      "metadata": {
        "id": "nqTnPBPM_RrH"
      },
      "source": [
        "## Μέρος 4\n",
        "\n",
        "Στο τέταρτο και τελευταίο μέρος της εργασίας σας δίνεται η δυνατότητα να κατασκευάσετε λαβυρίνθους με το χέρι. \n",
        "\n",
        "Καλείστε λοιπόν να **κατασκευάσετε** και να **σχολιάσετε** τους παρακάτω 5 λαβυρίνθους:\n",
        "\n",
        "\n",
        "*   **Λαβύρινθος 1**: Ο Hill-climbing δεν βρίσκει μονοπάτι από την αφετηρία στο στόχο.\n",
        "*   **Λαβύρινθος 2**: Ο Α* αργεί όσο το δυνατόν περισσότερο να βρει το βέλτιστο μονοπάτι ανεξαρτήτως της μετρικής απόστασης που χρησιμοποιείται ως ευριστική. Σε τι είδους μονοπάτι η επιλογή διαφορετικής μετρικής απόστασης (Ευκλίδεια/Manhattan) ως ευριστικής οδηγεί τον Α* να βρίσκει το μονοπάτι πιο γρήγορα;\n",
        "*   **Λαβύρινθος 3**: Ο αλγόριθμος άπληστης αναζήτησης πρώτα στο καλύτερο (greedy best first) αργεί σημαντικά περισσότερο από τον Α* για να καταλήξει στο στόχο. Σε ποια περίπτωση οι δύο αλγόριθμοι θα συμπεριφέρονταν με τον ίδιο τρόπο;\n",
        "*   **Λαβύρινθος 4**: Ο Α* καταφέρνει να βρει το μονοπάτι προς το στόχο σημαντικά πιο γρήγορα από τον Dijkstra. Ο χώρος πρέπει αναγκαστικά να περιέχει εμπόδια. Πώς επηρεάζει το μέγεθος/είδος του εμποδίου τον αριθμό βημάτων που χρειάζεται ο Dijsktra και πώς τον αριθμό βημάτων του Α*;\n",
        "*   **Λαβύρινθος 5**: Ο Α* και ο Dijkstra φτάνουν στο στόχο πραγματοποιώντας τον ίδιο ακριβώς αριθμό βημάτων για την προσέγγιση της βέλτιστης διαδρομής. Σημείωση: **αγνοήστε** την τετριμμένη περίπτωση όπου ο Α* συμπεριφέρεται όπως ο Dijkstra (h(n)=0). \n",
        "\n",
        "\n",
        "Ο Α* σε όλες τις περιπτώσεις πραγματοποιεί τη βέλτιστη δυνατή αναζήτηση.   \n",
        "\n",
        "\n",
        "Για κάθε λαβύρινθο που σχηματίζετε, δώστε μια σύντομη εξήγηση για την επιλογή σας.  \n",
        "\n",
        "**ΠΡΟΣΟΧΗ:** το output των κελιών που σχηματίζετε διατηρείται για περιορισμένο χρονικό διάστημα στο notebook, γι αυτό καλείστε να αποθηκεύσετε τη φωτογραφία (το πραγματοποιεί η συνάρτηση draw()) και να τη μεταφέρετε στο ανάλογο markdown ώστε να μπορέσουμε να την αξιολογήσουμε.\n",
        "\n",
        "\n",
        "Στη συνέχεια, καλείστε να τρέξετε τους αλγορίθμους pathfinding πάνω στους χάρτες που σχηματίσατε. Για το σκοπό αυτό, μετά την εκτέλεση της draw() καλείτε τη συνάρτηση draw_grid() που μετατρέπει την εικόνα που σχηματίσατε σε χάρτη πάνω στον οποίο μπορούν να τρέξουν οι αλγόριθμοι με χρήση της συνάρτησης pathfinder(). Χρειάζεται να επιλέξετε κατάλληλα τα ορίσματα της pathfinder ώστε να καλέσετε το σωστό αλγόριθμο αναζήτησης σε κάθε ερώτημα. Εκτελέστε τα αντίστοιχα κελιά με τον κώδικα που σας δίνεται και παρουσιάστε την έξοδο αυτών. Φυσικά, εάν ένα ερώτημα περιλαμβάνει την εκτέλεση περισσότερων του ενός αλγορίθμου, αντιγράφετε τα αντίστοιχα κελιά για κάθε αλγόριθμο και τοποθετείτε τα σωστά ορίσματα. Τέλος, η show_gif() σας παρουσιάζει το animation, όπως και στο Μέρος 3.\n",
        "**Παρατήρηση:** εφόσον δε σας δίνεται/δεν έχετε υλοποιήσει τον Hill climbing, δε σας ζητείται να τον τρέξετε στο χάρτη που θα σχηματίσετε."
      ]
    },
    {
      "cell_type": "markdown",
      "metadata": {
        "id": "k4B8EEBhClt2"
      },
      "source": [
        "# Κώδικας visualization\n"
      ]
    },
    {
      "cell_type": "code",
      "metadata": {
        "id": "fH9jHuU-Chps"
      },
      "source": [
        "import numpy as np\n",
        "import matplotlib.pyplot as plt\n",
        "import matplotlib.animation as animation\n",
        "from matplotlib.animation import PillowWriter\n",
        "from IPython.display import HTML\n",
        "\n",
        "class visualization:\n",
        "    def __init__(self, S, F):\n",
        "        '''\n",
        "          Η μέθοδος αυτή αρχικοποιεί ένα αντικείμενο τύπου visualization.\n",
        "          Είσοδος: \n",
        "          -> S: το σημείο εκκίνσης της αναζήτησης\n",
        "          -> F: το σημείο τερματισμού\n",
        "        '''\n",
        "        self.S = S\n",
        "        self.F = F\n",
        "        self.images = []\n",
        "    \n",
        "    def draw_step(self, grid, frontier, expanded_nodes):\n",
        "        '''\n",
        "          Η συνάρτηση αυτή καλείται για να σχεδιαστεί ένα frame στο animation (πρακτικά έπειτα από την επέκταση κάθε κόμβου)\n",
        "          Είσοδος: \n",
        "          -> grid: Ένα χάρτης τύπου grid\n",
        "          -> frontier: Μια λίστα με τους κόμβους που ανήκουν στο μέτωπο της αναζήτησης\n",
        "          -> expanded_nodes: Μια λίστα με τους κόμβους που έχουν ήδη επεκταθεί\n",
        "          Επιστρέφει: None\n",
        "          Η συνάρτηση αυτή πρέπει να καλεστεί τουλάχιστον μια φορά για να μπορέσει να σχεδιαστει ένα animation (πρεπεί το animation να έχει τουλάχιστον ένα frame).\n",
        "        '''\n",
        "        image = np.zeros((grid.N, grid.N, 3), dtype=int)\n",
        "        image[~grid.grid] = [0, 0, 0]\n",
        "        image[grid.grid] = [255, 255, 255]\n",
        "        # Use this to treat 1/True as obstacles\n",
        "        # image[grid.grid] = [0, 0, 0]\n",
        "        # image[~grid.grid] = [255, 255, 255]\n",
        "        \n",
        "        for node in expanded_nodes:\n",
        "            image[node] = [0, 0, 128]\n",
        "\n",
        "        for node in frontier:\n",
        "            image[node] = [0, 225, 0]\n",
        "\n",
        "        image[self.S] = [50, 168, 64]\n",
        "        image[self.F] = [168, 50, 50]\n",
        "        self.images.append(image)\n",
        "    \n",
        "    def add_path(self, path):\n",
        "        '''\n",
        "          Η συνάρτηση αυτή προσθέτει στο τελευταίο frame το βέλτιστο μονοπάτι.\n",
        "          Είσοδος:\n",
        "          -> path: Μια λίστα η όποια περιέχει το βέλτιστο μονοπάτι (η οποία πρέπει να περιέχει και τον κόμβο αρχή και τον κόμβο στόχο)\n",
        "          Έξοδος: None\n",
        "        '''\n",
        "        for n in path[1:-1]:\n",
        "            image = np.copy(self.images[-1])\n",
        "            image[n] = [66, 221, 245]\n",
        "            self.images.append(image)\n",
        "        for _ in range (100):\n",
        "            self.images.append(image)\n",
        "        \n",
        "    def create_gif(self, fps = 30, repeat_delay = 2000):\n",
        "        if len(self.images) == 0:\n",
        "            raise EmptyStackOfImages(\"Error! You have to call 'draw_step' at  first.\")\n",
        "        fig = plt.figure()\n",
        "        plt.axis('off')\n",
        "        ims = []\n",
        "        for img in self.images:\n",
        "            img = plt.imshow(img)\n",
        "            ims.append([img])\n",
        "        ani = animation.ArtistAnimation(fig, ims, interval=1000//fps, blit=True, repeat_delay= repeat_delay)\n",
        "        plt.close(fig)\n",
        "        return ani\n",
        "        \n",
        "    def save_gif(self, filename, fps = 30):\n",
        "        '''\n",
        "            Η συνάρτηση αυτή ξαναδημιουργεί και αποθηκεύει το animation σε ένα αρχείο.\n",
        "            Είσοδος:\n",
        "            -> Το όνομα του αρχείου με κατάληξη .gif\n",
        "            Έξοδος: (None)\n",
        "        '''\n",
        "        ani = self.create_gif(fps)\n",
        "        writer = PillowWriter(fps= fps)\n",
        "        ani.save(filename, writer=writer)\n",
        "\n",
        "    def show_gif(self, fps= 30, repeat_delay = 2000):\n",
        "        '''\n",
        "            Η συνάρτηση αυτή εμφανίζει inline το animation.\n",
        "            Είσοδος:\n",
        "            -> fps: τα frames per second\n",
        "            Έξοδος: Το αντικείμενο που παίζει το animation\n",
        "            Exceptions: EmptyStackOfImages αν το animation δεν έχει ούτε ένα frame, δηλαδή αν η draw_step δεν έχει καλεστεί ποτέ.\n",
        "        '''\n",
        "        ani = self.create_gif(fps, repeat_delay)\n",
        "        # return HTML(ani.to_html5_video())\n",
        "        return HTML(ani.to_jshtml())\n",
        "\n",
        "    def show_last_frame(self):\n",
        "        '''\n",
        "            Η μέθοδος αυτή εμφανίζει inline το τελευταίο frame που έχει δημιουργήθει.\n",
        "            Είσοδος:\n",
        "            Έξοδος: Το αντικείμενο που εμφανίζει την εικόνα.\n",
        "            Exceptions: EmptyStackOfImages αν το animation δεν έχει ούτε ένα frame, δηλαδή αν η draw_step δεν έχει καλεστεί ποτέ.\n",
        "        '''\n",
        "        if len(self.images) == 0:\n",
        "            raise EmptyStackOfImages(\"Error! You have to call 'draw_step' at  first.\")\n",
        "        else:\n",
        "            plt.imshow(self.images[-1])\n",
        "\n",
        "\n",
        "class EmptyStackOfImages(Exception):\n",
        "    pass"
      ],
      "execution_count": 5,
      "outputs": []
    },
    {
      "cell_type": "markdown",
      "metadata": {
        "id": "_HWZO0-MAHKz"
      },
      "source": [
        "# Λύση\n",
        "\n"
      ]
    },
    {
      "cell_type": "markdown",
      "metadata": {
        "id": "MTiD83XMoM5u"
      },
      "source": [
        "## Μέρος 1\n",
        "\n",
        "Στο παρακάτω κελί κώδικα σας δίνεται ο σκελετός της κλάσης ```Maze```, όπου και θα υλοποιήσετε τον αλγόριθμο κατασκευής λαβυρίνθων. Για να λειτουργεί σωστά η οπτικοποίηση, ο λαβύριθνος αναπαριστάται ως ένας $N\\times{N}$ boolean πίνακας στο attribute ```grid``` της κλάσης. Η τιμή ```False``` σε ένα κελί του πίνακα αναπαριστά την ύπαρξη εμποδίου στο σημείο αυτό, ενώ η τιμή ```True``` ελεύθερο κελί.\n",
        "\n",
        "\n",
        "Μπορείτε να τροποποιήσετε τον δοσμένο κώδικα όπως θέλετε."
      ]
    },
    {
      "cell_type": "code",
      "metadata": {
        "id": "t-BBg2eWAFN4"
      },
      "source": [
        "%matplotlib inline\n",
        "import numpy as np\n",
        "from queue import LifoQueue\n",
        "import  random \n",
        "import matplotlib.pyplot as plt\n",
        "\n",
        "\n",
        "class Maze:\n",
        "    def __init__(self, N, S, F):\n",
        "\n",
        "      \"\"\"\n",
        "      N: integer that indicates the size of the NxN grid of the maze\n",
        "      S: pair of integers that indicates the coordinates of the starting point (S)\n",
        "      F: pair of integers that indicates the coordinates of the finish point (F)\n",
        "      You can add any other parameters you want to customize maze creation (e.g. variables that\n",
        "      control the creation of additional paths)\n",
        "      \"\"\"\n",
        "\n",
        "      assert N > 2\n",
        "\n",
        "      ## Make sure start and end are within the grid\n",
        "\n",
        "      assert S[0] < N-1\n",
        "      assert S[1] < N-1\n",
        "      assert F[0] < N-1\n",
        "      assert F[1] < N-1\n",
        "\n",
        "      assert S[0] > 0\n",
        "      assert S[1] > 0\n",
        "      assert F[0] > 0\n",
        "      assert F[1] > 0\n",
        "\n",
        "      # Add here any additional constraints your implementation may have\n",
        "\n",
        "      self.N = N\n",
        "      self.S = S\n",
        "      self.F = F\n",
        "\n",
        "      # Grid initialized with obstacles (array of 0/False)\n",
        "      # 1/True indicates available cells\n",
        "      self.grid = np.zeros((N, N), dtype=bool)\n",
        "      \n",
        "      ## YOUR CODE HERE  \n",
        "      curr_cell = [S[0],S[1]] #we start ffrom the given cell.\n",
        "      cell_stack = [curr_cell] #cell stack initialization\n",
        "    \n",
        "      while (cell_stack != []):\n",
        "          potential_neighbours = [[curr_cell[0]+2, curr_cell[1]], [curr_cell[0]-2, curr_cell[1]], [curr_cell[0], curr_cell[1]-2], [curr_cell[0], curr_cell[1]+2]]\n",
        "          direction = ['D','U','L','R'] #the 4 potential neighbours and directions\n",
        "          valid_neighbours = []\n",
        "          valid_directions = []\n",
        "          for i in range(4):\n",
        "              x = potential_neighbours[i][0]\n",
        "              y = potential_neighbours[i][1]\n",
        "              if (0 < x < N-1) and (0 < y < N-1):\n",
        "                  if (direction[i] == 'D'):\n",
        "                      if (self.grid[x][y] == False):\n",
        "                          valid_neighbours.append(potential_neighbours[i]) \n",
        "                          valid_directions.append(direction[i])\n",
        "                  if (direction[i] == 'U'):\n",
        "                      if (self.grid[x][y] == False):\n",
        "                          valid_neighbours.append(potential_neighbours[i])\n",
        "                          valid_directions.append(direction[i])\n",
        "                  if (direction[i] == 'L'):\n",
        "                      if (self.grid[x][y] == False):\n",
        "                          valid_neighbours.append(potential_neighbours[i])\n",
        "                          valid_directions.append(direction[i])\n",
        "                  if (direction[i] == 'R'):\n",
        "                      if (self.grid[x][y] == False):\n",
        "                          valid_neighbours.append(potential_neighbours[i])\n",
        "                          valid_directions.append(direction[i]) #checking valid neighbours and directions\n",
        "\n",
        "          if (valid_neighbours == []):\n",
        "              curr_cell = cell_stack.pop()\n",
        "              continue #if there is no valid neighbour, return to the previous cell and continue with another neighbour\n",
        "\n",
        "\n",
        "          next_dir = random.choice(valid_directions) #random next direction-cell.\n",
        "          if next_dir == 'D': \n",
        "              self.grid[curr_cell[0], curr_cell[1]] = True\n",
        "              self.grid[curr_cell[0]+1, curr_cell[1]] = True\n",
        "              self.grid[curr_cell[0]+2, curr_cell[1]] = True\n",
        "              next_cell = [curr_cell[0]+2,curr_cell[1]]\n",
        "          if next_dir == 'U': \n",
        "              self.grid[curr_cell[0], curr_cell[1]] = True\n",
        "              self.grid[curr_cell[0]-1, curr_cell[1]] = True\n",
        "              self.grid[curr_cell[0]-2, curr_cell[1]] = True\n",
        "              next_cell = [curr_cell[0]-2,curr_cell[1]]\n",
        "          if next_dir == 'L': \n",
        "              self.grid[curr_cell[0], curr_cell[1]] = True\n",
        "              self.grid[curr_cell[0], curr_cell[1]-1] = True\n",
        "              self.grid[curr_cell[0], curr_cell[1]-2] = True\n",
        "              next_cell = [curr_cell[0],curr_cell[1]-2]\n",
        "          if next_dir == 'R': \n",
        "              self.grid[curr_cell[0], curr_cell[1]] = True\n",
        "              self.grid[curr_cell[0], curr_cell[1]+1] = True\n",
        "              self.grid[curr_cell[0], curr_cell[1]+2] = True\n",
        "              next_cell = [curr_cell[0],curr_cell[1]+2]    #for each direction break the wall between the current cell and the neighbour.\n",
        "          curr_cell = next_cell #move to the neighbour.\n",
        "          cell_stack.append(curr_cell) #put the neighbout on the top of the stack.\n",
        "\n",
        "      if (S[0] > 2):\n",
        "          self.grid[S[0]-1][S[1]] = True\n",
        "      if (S[0] <  N-3):\n",
        "          self.grid[S[0]+1][S[1]] = True\n",
        "      if (S[1] > 2):\n",
        "          self.grid[S[0]][S[1]-1] = True\n",
        "      if (S[1] <  N-3):\n",
        "          self.grid[S[0]][S[1]+1] = True #remove the walls near the starting point to have at least 2 (2 or 3 or 4) passages to the final cell.\n",
        "          \n",
        "    def transform_maze (self):   #a function to break more walls, in order to have more passages.\n",
        "        transformed_grid =  self.grid\n",
        "        for i in range(1,self.N-1):\n",
        "            for j in range(1,self.N-1):\n",
        "                if (self.grid[i][j] == True):\n",
        "                    if (self.grid[i][j+1] == False and self.grid[i][j-1] == False and self.grid[i+1][j] == False):\n",
        "                        transformed_grid[i+1][j] = True\n",
        "                    elif (self.grid[i][j+1] == False and self.grid[i][j-1] == False and self.grid[i-1][j] == False):\n",
        "                        transformed_grid[i-1][j] = True\n",
        "                    elif (self.grid[i+1][j] == False and self.grid[i-1][j] == False and self.grid[i][j+1] == False):\n",
        "                        transformed_grid[i][j+1] = True\n",
        "                    elif (self.grid[i+1][j] == False and self.grid[i-1][j] == False and self.grid[i][j-1] == False):\n",
        "                        transformed_grid[i][j-1] = True #we break a nearby wall of every cell, that is a passage, and is surrounded by 3 walls.\n",
        "        for i in range(0,self.N):\n",
        "            transformed_grid[0][i] = False\n",
        "            transformed_grid[self.N-1][i] = False\n",
        "            transformed_grid[i][0] = False\n",
        "            transformed_grid[i][self.N-1] = False #we keep the outer cells as walls.\n",
        "            \n",
        "        self.grid = transformed_grid\n",
        "      \n",
        "\n",
        "\n",
        "    def draw_map(self, path=None):\n",
        "        \"\"\" Draws the maze as an image. Considers grid values of 0/False to represent obstacles and\n",
        "        values of 1/True to represent empty cells, but this can be customized. Obstacles are painted\n",
        "        black and empty cells are painted white. Starting point is painted green and finish point red.\n",
        "        Optionally accepts as a parameter a path within the maze which is painted blue. \n",
        "        \"\"\"\n",
        "        image = np.zeros((self.N, self.N, 3), dtype=int)\n",
        "        image[~self.grid] = [0, 0, 0]\n",
        "        image[self.grid] = [255, 255, 255]\n",
        "\n",
        "        # Uncomment the next 2 lines of code to treat 1/True as obstacles (and 0/False as free maze cells)\n",
        "        # image[self.grid] = [0, 0, 0]\n",
        "        # image[~self.grid] = [255, 255, 255]\n",
        "\n",
        "        image[self.S] = [50, 168, 64]\n",
        "        image[self.F] = [168, 50, 50]\n",
        "        if path:\n",
        "            for n in path[1:-1]:\n",
        "                image[n] = [66, 221, 245]\n",
        "\n",
        "        plt.imshow(image)\n",
        "        plt.xticks([])\n",
        "        plt.yticks([])\n",
        "        plt.show()"
      ],
      "execution_count": 1,
      "outputs": []
    },
    {
      "cell_type": "markdown",
      "metadata": {
        "id": "mfGf9hhdno5p"
      },
      "source": [
        "Τρέξτε το παρακάτω κελί κώδικα πριν παραδώσετε την άσκηση για να φαίνονται παραδείγματα λαβυρίνθων. Μπορείτε να το τροποποιήσετε."
      ]
    },
    {
      "cell_type": "code",
      "metadata": {
        "id": "9LK61zuVBCi2",
        "colab": {
          "base_uri": "https://localhost:8080/",
          "height": 722
        },
        "outputId": "9818110d-a19e-433e-e01b-58b207d2118c"
      },
      "source": [
        "for N, S, F in (11, (1, 3), (7, 9)), (25, (3, 7), (23, 19)), (51, (9, 3), (41, 41)):\n",
        "    maze = Maze(N, S, F)\n",
        "    maze.transform_maze()\n",
        "    maze.draw_map()"
      ],
      "execution_count": 2,
      "outputs": [
        {
          "output_type": "display_data",
          "data": {
            "image/png": "[encoded data removed]",
            "text/plain": [
              "<Figure size 432x288 with 1 Axes>"
            ]
          },
          "metadata": {}
        },
        {
          "output_type": "display_data",
          "data": {
            "image/png": "[encoded data removed]",
            "text/plain": [
              "<Figure size 432x288 with 1 Axes>"
            ]
          },
          "metadata": {}
        },
        {
          "output_type": "display_data",
          "data": {
            "image/png": "[encoded data removed]",
            "text/plain": [
              "<Figure size 432x288 with 1 Axes>"
            ]
          },
          "metadata": {}
        }
      ]
    },
    {
      "cell_type": "markdown",
      "metadata": {
        "id": "UKhJ8VJDn4ra"
      },
      "source": [
        "### Σχολιασμός\n",
        "\n",
        "*Σε αυτό το κελί σχολιάστε τη λύση σας περιληπτικά*\n",
        "\n",
        "Προκειμένου να δημιουργήσουμε τους λαβυρίνθους, χρησιμοποιούμε τον αλγόριθμο iterative depth first. Αρχικά, ορίζουμε τον πρώτο κόμβο και αρχικοποιούμε την στοίβα. Στη συνέχεια, εξετάζουμε τους γειτονικόυς κόμβους (σε απόσταση 2), τους οποίους μπορούμε να κάνουμε passages. Αν δεν υπάρχει κανένας τέτοιος γειτονικός κόμβος, πηγαίνουμε στο προηγούμενο κελί με ένα pop(). Αν υπάρχουν >=1 τέτοιοι κόμβοι, επιλέγουμε τυχαία έναν, αναδιαμορφώνουμε τόσο αυτόν, όσο και τον κόμβο μεταξύ των 2 γειτόνων σε passage, τον ορίζουμε ως current cell και επαναλαμβάνουμε τη διαδικασία.\n"
      ]
    },
    {
      "cell_type": "markdown",
      "metadata": {
        "id": "7XhekogLCJ1i"
      },
      "source": [
        "## Μέρος 2\n",
        "\n",
        "Παρακάτω σας δίνετε ο σκελετός της κλάσης Pathfinder η οποία αρχικοποιείται με ένα αντικείμενο ```Maze``` (από το πρώτο μέρος), τη συνάρτηση πραγματικού κόστους ```c``` και την ευριστική ```h```. Σε αυτήν θα υλοποιήσετε τον αλγόριθμο αναζήτησης Α*.\n",
        "\n"
      ]
    },
    {
      "cell_type": "code",
      "metadata": {
        "id": "dXgXz9ZbCR2y"
      },
      "source": [
        "class Node():\n",
        "\n",
        "    def __init__(self, parent=None, position=None):\n",
        "        self.parent = parent\n",
        "        self.position = position\n",
        "\n",
        "        self.g = 0\n",
        "        self.h = 0\n",
        "        self.f = 0.  #we define the class Node, in order for us to have more info for the cell that we examine.\n",
        "\n",
        "class Pathfinder:\n",
        "    def __init__(self, maze, c, h):\n",
        "        \"\"\"\n",
        "        maze : Αντικείμενο τύπου Maze (από Μέρος 1)\n",
        "        c : Συνάρτηση που υπολογίζει την πραγματική απόσταση μεταξύ δύο σημείων\n",
        "        h : Συνάρτηση που υπολογίζει την ευριστική μεταξύ δύο σημείων\n",
        "        \"\"\"\n",
        "        self.maze = maze\n",
        "        self.vis = visualization(maze.S, maze.F)\n",
        "        self.path = []\n",
        "        self.cost = c\n",
        "        self.heuristic = h\n",
        "        \n",
        "        \n",
        "    ### Fill the path list with the coordinates of each point in the path from maze.S to maze.F\n",
        "    ### Your code here\n",
        "        start_node = Node(None, maze.S)\n",
        "        start_node.g = start_node.h = start_node.f = 0\n",
        "        end_node = Node(None, maze.F)\n",
        "        end_node.g = end_node.h = end_node.f = 0\n",
        "        #openlist = []\n",
        "        #closedlist = []\n",
        "        open_list = []\n",
        "        self.closed_list = []\n",
        "    \n",
        "        open_list.append(start_node)\n",
        "        #openlist.append(start_node.position)\n",
        "    \n",
        "        while len(open_list) > 0: #the loop continues until we stop having children in the open list, or we reach the final cell.\n",
        "            #self.vis.draw_step(self.maze,openlist,closedlist)\n",
        "            current_node = open_list[0]\n",
        "            current_index = 0\n",
        "            for index, item in enumerate(open_list):\n",
        "                if item.f < current_node.f:\n",
        "                    current_node = item\n",
        "                    current_index = index #we calculate the child with the least sum of heuristic and asctual distance.\n",
        "    \n",
        "            open_list.pop(current_index)\n",
        "            #openlist.pop(current_index)\n",
        "            self.closed_list.append(current_node)\n",
        "            #closedlist.append(current_node.position)\n",
        "    \n",
        "            if current_node.position == end_node.position: #if we have reached the final cell.\n",
        "                self.path = []\n",
        "                current = current_node\n",
        "                while current is not None:\n",
        "                    self.path.append(current.position)\n",
        "                    current = current.parent #we go backwards to find the path that we followed.\n",
        "                self.path = self.path[::-1] #we reverse it.\n",
        "                break\n",
        "            \n",
        "            children = []\n",
        "            for new_position in [(0, -1), (0, 1), (-1, 0), (1, 0)]: #possible next cells.\n",
        "    \n",
        "                node_position = (current_node.position[0] + new_position[0], current_node.position[1] + new_position[1])\n",
        "    \n",
        "                if node_position[0] > (maze.N - 1) or node_position[0] < 0 or node_position[1] > (maze.N -1) or node_position[1] < 0:\n",
        "                    continue #if the position of the neighbour-cell is out of the maze, we ignore it.\n",
        "    \n",
        "                if maze.grid[node_position[0]][node_position[1]] == 0:\n",
        "                    continue #if the neighbour_cell is a wall, we also ignore it.\n",
        "    \n",
        "                new_node = Node(current_node, node_position)\n",
        "    \n",
        "                children.append(new_node) #if the neighbour-cell is valid we append it to the children list.\n",
        "    \n",
        "            for child in children:\n",
        "                flag = False\n",
        "                for closed_child in self.closed_list:\n",
        "                    if child.position == closed_child.position: #if we have already visited any of the children, we ignore it.\n",
        "                        flag = True\n",
        "                        break\n",
        "                if (flag == True):\n",
        "                    continue\n",
        "    \n",
        "                child.g = current_node.g + self.cost(0,0) #calculation of the actual distance.\n",
        "                child.h = self.heuristic(child.position, end_node.position) #calculation of the heuristic.\n",
        "                child.f = child.g + child.h #sum of actual distance and heuristic.\n",
        "    \n",
        "                flag = False\n",
        "                for open_node in open_list:\n",
        "                    if child.position == open_node.position and child.g > open_node.g: #if the child is already in the open list, but has a worst actual distance (heuristic is the same), we ignore it.\n",
        "                        flag = True\n",
        "                        break\n",
        "                if (flag == True):\n",
        "                    continue\n",
        "                \n",
        "                open_list.append(child) #we append the child to the open list.\n",
        "                #openlist.append(child.position)\n",
        "\n",
        "    def get_path(self):\n",
        "        return self.path #path.\n",
        "    \n",
        "    def get_path_length(self):\n",
        "        return len(self.path) #path length.\n",
        "    \n",
        "    def get_expanded_nodes(self):\n",
        "        return len(self.closed_list) #expanded nodes."
      ],
      "execution_count": 25,
      "outputs": []
    },
    {
      "cell_type": "markdown",
      "metadata": {
        "id": "7mA1elqEy-GU"
      },
      "source": [
        "Για να δείτε το μονοπάτι που κατασκευάσατε, μπορείτε να καλείτε τη μέθοδο ```draw_map``` του αντικειμένου ```maze``` οπως φαίνεται στο παρακάτω κελί."
      ]
    },
    {
      "cell_type": "code",
      "metadata": {
        "id": "fwcVPbRACUIz",
        "colab": {
          "base_uri": "https://localhost:8080/",
          "height": 252
        },
        "outputId": "51b49072-f011-4275-dd0f-7f3ea6a619b6"
      },
      "source": [
        "import math\n",
        "\n",
        "## A heuristic\n",
        "def manhattan(a, b):\n",
        "    return abs(a[0] - b[0]) + abs(a[1] - b[1])\n",
        "\n",
        "def euclidean(a, b):\n",
        "    return np.sqrt((a[0]-b[0])**2 + (a[1]-b[1])**2)\n",
        "\n",
        "## Create a 41x41 maze\n",
        "N = 41\n",
        "S = (5, 9)\n",
        "F = (37, 37)\n",
        "maze = Maze(N, S, F)\n",
        "maze.transform_maze()\n",
        "\n",
        "## Find and visualize the path\n",
        "pf = Pathfinder(maze=maze, c = lambda x, y: 1, h = manhattan)\n",
        "maze.draw_map(pf.get_path())"
      ],
      "execution_count": 26,
      "outputs": [
        {
          "output_type": "display_data",
          "data": {
            "image/png": "[encoded data removed]",
            "text/plain": [
              "<Figure size 432x288 with 1 Axes>"
            ]
          },
          "metadata": {}
        }
      ]
    },
    {
      "cell_type": "markdown",
      "metadata": {
        "id": "lulTcEPq0nMV"
      },
      "source": [
        "Για να χρονομετρήσετε το τρέξιμο ενός κελιού μπορείτε να χρησιμοποιήσετε το μαγικό ```%%time```"
      ]
    },
    {
      "cell_type": "code",
      "metadata": {
        "id": "--yjHv6503F_",
        "colab": {
          "base_uri": "https://localhost:8080/",
          "height": 286
        },
        "outputId": "08183650-2ca5-40a2-e94b-868a8113135c"
      },
      "source": [
        "%%time\n",
        "pf = Pathfinder(maze, c= lambda x, y: 1, h=manhattan)\n",
        "maze.draw_map(pf.get_path())"
      ],
      "execution_count": 27,
      "outputs": [
        {
          "output_type": "display_data",
          "data": {
            "image/png": "[encoded data removed]",
            "text/plain": [
              "<Figure size 432x288 with 1 Axes>"
            ]
          },
          "metadata": {}
        },
        {
          "output_type": "stream",
          "name": "stdout",
          "text": [
            "CPU times: user 113 ms, sys: 1.96 ms, total: 115 ms\n",
            "Wall time: 116 ms\n"
          ]
        }
      ]
    },
    {
      "cell_type": "markdown",
      "metadata": {
        "id": "CwWlTKAo7KZS"
      },
      "source": [
        "###Σχολιασμός:\n",
        "Στην πρώτη περίπτωση, έχουμε τον αλγόριθμο Best First, ο οποίος αγνοεί τις πραγματικές αποστάσεις μέχρι κάθε κόμβο και προχωράει ανάλογα με την ελάχιστη ευρυστική. Πάντα επιστρέφει ένα μονοπάτι, χωρίς αυτό να είναι κατ' ανάγκη το βέλτιστο.\n",
        "\n",
        "Στην δεύτερη περίπτωση, έχουμε τον αλγόριθμο BFS (dijkstra με μοναδιαίες ακμές), ο οποίος προχωράει ανάλογα με την ελάχιστη πραγματική απόσταση σμέχρι κάποιον κόμβο. Πάντα εποστρέφει τη βέλτιστη λύση, καθώς εκτελεί εξαντλητική αναζήτηση σε αυξανόμενα μεγέθη μονοπατιών.\n",
        "\n",
        "Στην τρίτη περίπτωση, έχουμε τον αλγόριθμο Α*, ο οποίος προχωράει ανάλογα με το άθροισμα της ευριστικής και της πραγματικής απόστασης ως τον κόμβο. Πάντα επιστρέφει μία λύση, η οποία στην συγκεκριμένη περίπτωση είναι η βέλτιστη, αφού τόσο η απόσταση manhattan, όσο και η ευκλείδια είναι admissible ευριστικές (μικρότερες η ίσες από τις πραγματικές αποστάσεις). \n",
        "\n",
        "Μία άλλη ευριστική, που θα μπορούσαμε να χρησιμοποιήσουμε είναι η diagonal distance, η οποία ορίζει ένα κόστος για μία διαγώνια κίνηση και, συνεπώς, απαιτεί τις μισές κινήσεις από την manhattan. Η συγκεκριμένη ευριστική, βέβαια, δεν έχει εφαρμογή στους συγκεκριμένους λαβυρίνυθους, καθώς δεν επιτρέπονται οι διαγώνιες κινήσεις."
      ]
    },
    {
      "cell_type": "markdown",
      "metadata": {
        "id": "XmmqhRLfEjKj"
      },
      "source": [
        "## Μέρος 3\n",
        "\n",
        "Στο παρακάτω κελί σας δίνεται ένα παράδειγμα για την κατασκευή γραφικών παραστάσεων. Θα πρέπει να κατασκευάσετε τις δύο γραφικές παραστάσεις σύμφωνα με τα ζητούμενα της άσκησης."
      ]
    },
    {
      "cell_type": "code",
      "metadata": {
        "colab": {
          "base_uri": "https://localhost:8080/",
          "height": 545
        },
        "id": "j_wp8ZuWtwEw",
        "outputId": "b390a8c6-f32a-4129-b54f-b819e0524f76"
      },
      "source": [
        "## YOUR CODE HERE\n",
        "path_lengths1 = []\n",
        "expanded_nodes1 = []\n",
        "for i in range(11,50,2):\n",
        "    total_path_lengths = 0\n",
        "    total_expanded_nodes = 0\n",
        "    for j in range(0,10):\n",
        "        S = (1,1)\n",
        "        F = (i-2, i-2)\n",
        "        maze = Maze(i, S, F)\n",
        "        maze.transform_maze() #maze initialization\n",
        "        pf = Pathfinder(maze=maze, c = lambda x, y: 0, h = manhattan) #Best First algorithm.\n",
        "        path = pf.get_path_length()\n",
        "        expanded_node = pf.get_expanded_nodes()\n",
        "        total_path_lengths = total_path_lengths + path #sum of path lengths for a specific N.\n",
        "        total_expanded_nodes = total_expanded_nodes + expanded_node #sum of expanded nodes for a specific N.\n",
        "    \n",
        "    total_path_lengths = total_path_lengths/10\n",
        "    path_lengths1.append(total_path_lengths) #we append the mean path length for a specific N.\n",
        "    total_expanded_nodes = total_expanded_nodes/10\n",
        "    expanded_nodes1.append(total_expanded_nodes) #we append the mean value of expanded nodes for a specific N.\n",
        "        \n",
        "path_lengths2 = []\n",
        "expanded_nodes2 = []       \n",
        "for i in range(11,50,2):\n",
        "    total_path_lengths = 0\n",
        "    total_expanded_nodes = 0\n",
        "    for j in range(0,10):\n",
        "        S = (1,1)\n",
        "        F = (i-2, i-2)\n",
        "        maze = Maze(i, S, F)\n",
        "        maze.transform_maze()\n",
        "        pf = Pathfinder(maze=maze, c = lambda x, y: 1, h = manhattan) #A* algorithm.\n",
        "        path = pf.get_path_length()\n",
        "        expanded_node = pf.get_expanded_nodes()\n",
        "        total_path_lengths = total_path_lengths + path\n",
        "        total_expanded_nodes = total_expanded_nodes + expanded_node\n",
        "    \n",
        "    total_path_lengths = total_path_lengths/10\n",
        "    path_lengths2.append(total_path_lengths)\n",
        "    total_expanded_nodes = total_expanded_nodes/10\n",
        "    expanded_nodes2.append(total_expanded_nodes) \n",
        "    \n",
        "path_lengths3 = []\n",
        "expanded_nodes3 = []       \n",
        "for i in range(11,50,2):\n",
        "    total_path_lengths = 0\n",
        "    total_expanded_nodes = 0\n",
        "    for j in range(0,10):\n",
        "        S = (1,1)\n",
        "        F = (i-2, i-2)\n",
        "        maze = Maze(i, S, F)\n",
        "        maze.transform_maze()\n",
        "        pf = Pathfinder(maze=maze, c = lambda x, y: 1, h = lambda x, y: 0) #BFS algorithm.\n",
        "        path = pf.get_path_length()\n",
        "        expanded_node = pf.get_expanded_nodes()\n",
        "        total_path_lengths = total_path_lengths + path\n",
        "        total_expanded_nodes = total_expanded_nodes + expanded_node\n",
        "    \n",
        "    total_path_lengths = total_path_lengths/10\n",
        "    path_lengths3.append(total_path_lengths)\n",
        "    total_expanded_nodes = total_expanded_nodes/10\n",
        "    expanded_nodes3.append(total_expanded_nodes) \n",
        "    \n",
        "x = range(11,50,2)\n",
        "plt.figure(1)\n",
        "plt.title(\"Path length vs maze size\")\n",
        "plt.plot(x, path_lengths1, label = 'Best First')\n",
        "plt.plot(x, path_lengths2, label = 'A*')\n",
        "plt.plot(x, path_lengths3, label = 'BFS')\n",
        "plt.legend()\n",
        "plt.figure(2)\n",
        "plt.title(\"Expanded nodes vs maze size\")\n",
        "plt.plot(x, expanded_nodes1, label = 'Best First')\n",
        "plt.plot(x, expanded_nodes2, label = 'A*')\n",
        "plt.plot(x, expanded_nodes3, label = 'BFS')\n",
        "plt.legend()\n",
        "plt.show()\n",
        "    \n",
        "#path_lengths_a = [1,2,3,4,5,6,7,8,9]\n",
        "#path_lengths_b = [1,1,2,3,5,8,13,21,34]\n",
        "#map_sizes = [10,20,30,40,50,60,70,80,90]\n",
        "\n",
        "#plt.plot(map_sizes, path_lengths_a)\n",
        "#plt.plot(map_sizes, path_lengths_b )\n",
        "#plt.legend(['algorithm A', 'algorithm B'])\n",
        "#plt.title('Path length vs map size')\n",
        "#plt.show()"
      ],
      "execution_count": 29,
      "outputs": [
        {
          "output_type": "display_data",
          "data": {
            "image/png": "[encoded data removed]",
            "text/plain": [
              "<Figure size 432x288 with 1 Axes>"
            ]
          },
          "metadata": {
            "needs_background": "light"
          }
        },
        {
          "output_type": "display_data",
          "data": {
            "image/png": "[encoded data removed]",
            "text/plain": [
              "<Figure size 432x288 with 1 Axes>"
            ]
          },
          "metadata": {
            "needs_background": "light"
          }
        }
      ]
    },
    {
      "cell_type": "markdown",
      "metadata": {
        "id": "KoC7rAYwr41v"
      },
      "source": [
        "###Σχολιασμός:   \n",
        "\n",
        "Από τις παραπάνω γραφικές παραστάσεις παρατηρούμε:    \n",
        "  1.Ο Best-First, όπως ήταν αναμενόμενο, δεν βρίσκει συχνά (ειδικά όσο αυξάνεται το Ν) την βέλτιστη λύση, ενώ οι αλγόριθμοι BFS, A* τη βρίσκουν πάντα (υπάρχουν μικρές αποκλίσεις).\n",
        "  2.Σχετικά με την πολυπλοκότητα των αλγορίθμων (της οποίας ενδεικτική είναι η τιμή των expanded nodes), παρόλο που και οι 3 έχουν worst case complexity O(b^d), o BFS έχει σημαντικά μεγαλύτερη πολυπλοκότητα στην πράξη, από τους υπόλοιπους αλγορίθμους, καθώς αποτελεί την χειρότερη περίπτωση εκτέλεσής τους. Επιπλέον, ο Best-First έχει μικρότερη πολυπλοκότητα από τον Α*, καθώς έχει για κριτήριο μόνο την ευριστική εκτίμηση της απόστασης των κόμβων και, συνεπώς, το μέτωπο αναζήτησής του είναι περιορισμένο (πιθανώς να περιέχονται μερικά duplicates κόμβων στους expanded nodes και γι αυτό οι τιμές να είναι λίγο υψηλότερες).\n"
      ]
    },
    {
      "cell_type": "markdown",
      "metadata": {
        "id": "u3Ar_h-6EbZ6"
      },
      "source": [
        "## Μέρος 4\n",
        "\n",
        "Σας δίνεται η συνάρτηση ```draw(filename='filename.png')``` η οποία παράγει ένα interactive grid ώστε να σχηματίσετε το λαβύρινθο. Θεωρήστε ως μαύρο το χρώμα του εμποδίου, πράσινο την αφετηρία και κόκκινο το στόχο, και πατήστε finish για να ολοκληρωθεί η εκτέλεση του τρέχοντος κελιού. Σε περίπτωση που θέλετε να παράξετε νέο λαβύρινθο, απλά ξανατρέξτε το κελί, επιλέξτε τα τετράγωνα και πατήστε finish. Κάθε εκτέλεση αποθηκεύει την εικόνα σε μορφή png σε όνομα που μπορείτε να καθορίσετε μέσω του filename (τοποθετώντας και την κατάληξη .png) κατά την κλήση της συνάρτησης.  \n",
        "\n",
        "Μπορείτε να το δοκιμάσετε τρέχοντας το επόμενο κελί κώδικα.\n"
      ]
    },
    {
      "cell_type": "code",
      "metadata": {
        "colab": {
          "base_uri": "https://localhost:8080/",
          "height": 397
        },
        "id": "k58iY7EPSa_m",
        "outputId": "9bb9e142-1e26-47b6-b69e-50966fe15658"
      },
      "source": [
        "from IPython.display import HTML, Image\n",
        "from google.colab.output import eval_js\n",
        "from base64 import b64decode\n",
        "import PIL\n",
        "\n",
        "\n",
        "canvas_html = \"\"\"\n",
        "<canvas width=301 height=301></canvas>\n",
        "<br>\n",
        "\n",
        "<button id = \"start\" style=\"background-color: #008000\">Start</button>\n",
        "<button id = \"end\" style=\"background-color: #800000\">End</button>\n",
        "<button id = \"finish\">Finish</button>\n",
        "<script>\n",
        "\n",
        "var canvas = document.querySelector('canvas')\n",
        "var ctx = canvas.getContext('2d')\n",
        "\n",
        "for (var x = 0.5; x < 301; x += 20) {\n",
        "  ctx.moveTo(x, 0);\n",
        "  ctx.lineTo(x, 300);\n",
        "}\n",
        "\n",
        "for (var y = 0.5; y < 301; y += 20) {\n",
        "  ctx.moveTo(0, y);\n",
        "  ctx.lineTo(300, y);\n",
        "}\n",
        "\n",
        "ctx.strokeStyle = \"#000\";\n",
        "ctx.stroke();\n",
        "\n",
        "var button = document.getElementById('finish')\n",
        "var start_button = document.getElementById('start')\n",
        "var end_button = document.getElementById('end')\n",
        "\n",
        "\n",
        "start_button.onclick = ()=>{\n",
        "    ctx.fillStyle=\"#008000\";\n",
        "  }\n",
        "\n",
        "end_button.onclick = ()=>{\n",
        "    ctx.fillStyle=\"#800000\";\n",
        "  }\n",
        "   \n",
        "\n",
        "var mouse = {x: 0, y: 0}\n",
        "canvas.addEventListener('mousemove', function(e) {\n",
        "  mouse.x = e.pageX - this.offsetLeft\n",
        "  mouse.y = e.pageY - this.offsetTop\n",
        "})\n",
        "\n",
        "function getMousePos(canvas, evt) {\n",
        "        var rect = canvas.getBoundingClientRect();\n",
        "        return {\n",
        "          x: evt.x - rect.left,\n",
        "          y: evt.y - rect.top\n",
        "        };\n",
        "      }\n",
        "\n",
        "function getNearestSquare(position) {\n",
        "    var x = position.x;\n",
        "    var y = position.y;\n",
        "\n",
        "    if (x < 0 || y < 0) return null;\n",
        "    x = (Math.floor(x / 20) * 20) + 0.5\n",
        "    y = (Math.floor(y / 20) * 20) + 0.5\n",
        "    return {x: x, y: y};\n",
        "}\n",
        "\n",
        "function containsObject(obj, list) {\n",
        "    var i;\n",
        "    for (i = 0; i < list.length; i++) {\n",
        "        if (list[i].x === obj.x && list[i].y == obj.y) {\n",
        "            return i;\n",
        "        }\n",
        "    }\n",
        "    return -1;\n",
        "}\n",
        "\n",
        "borders = []\n",
        "\n",
        "canvas.onmousedown = ()=>{\n",
        "    var pos = getNearestSquare(getMousePos(canvas, mouse));\n",
        "    if (pos != null) {\n",
        "        index = containsObject(pos, borders)\n",
        "        if (index != -1){\n",
        "            borders.splice(index, 1)\n",
        "            ctx.clearRect(pos.x + 1, pos.y, 19, 19)\n",
        "        }\n",
        "        else{\n",
        "            ctx.fillRect(pos.x+1,pos.y+1,18,18);\n",
        "            borders.push(pos)\n",
        "        }\n",
        "        ctx.fillStyle=\"#000000\";\n",
        "    }\n",
        "}\n",
        "var data = new Promise(resolve=>{\n",
        "  button.onclick = ()=>{\n",
        "    resolve(canvas.toDataURL('image/png'))\n",
        "  }\n",
        "})\n",
        "</script>\n",
        "\"\"\"\n",
        "\n",
        "def draw(filename='drawing.png'):\n",
        "  display(HTML(canvas_html))\n",
        "  data = eval_js(\"data\")\n",
        "  print (data)\n",
        "  binary = b64decode(data.split(',')[1])\n",
        "  with open(filename, 'wb') as f:\n",
        "    f.write(binary)\n",
        "  return len(binary)\n",
        "\n",
        "\n",
        "draw()"
      ],
      "execution_count": 30,
      "outputs": [
        {
          "output_type": "display_data",
          "data": {
            "text/html": [
              "\n",
              "<canvas width=301 height=301></canvas>\n",
              "<br>\n",
              "\n",
              "<button id = \"start\" style=\"background-color: #008000\">Start</button>\n",
              "<button id = \"end\" style=\"background-color: #800000\">End</button>\n",
              "<button id = \"finish\">Finish</button>\n",
              "<script>\n",
              "\n",
              "var canvas = document.querySelector('canvas')\n",
              "var ctx = canvas.getContext('2d')\n",
              "\n",
              "for (var x = 0.5; x < 301; x += 20) {\n",
              "  ctx.moveTo(x, 0);\n",
              "  ctx.lineTo(x, 300);\n",
              "}\n",
              "\n",
              "for (var y = 0.5; y < 301; y += 20) {\n",
              "  ctx.moveTo(0, y);\n",
              "  ctx.lineTo(300, y);\n",
              "}\n",
              "\n",
              "ctx.strokeStyle = \"#000\";\n",
              "ctx.stroke();\n",
              "\n",
              "var button = document.getElementById('finish')\n",
              "var start_button = document.getElementById('start')\n",
              "var end_button = document.getElementById('end')\n",
              "\n",
              "\n",
              "start_button.onclick = ()=>{\n",
              "    ctx.fillStyle=\"#008000\";\n",
              "  }\n",
              "\n",
              "end_button.onclick = ()=>{\n",
              "    ctx.fillStyle=\"#800000\";\n",
              "  }\n",
              "   \n",
              "\n",
              "var mouse = {x: 0, y: 0}\n",
              "canvas.addEventListener('mousemove', function(e) {\n",
              "  mouse.x = e.pageX - this.offsetLeft\n",
              "  mouse.y = e.pageY - this.offsetTop\n",
              "})\n",
              "\n",
              "function getMousePos(canvas, evt) {\n",
              "        var rect = canvas.getBoundingClientRect();\n",
              "        return {\n",
              "          x: evt.x - rect.left,\n",
              "          y: evt.y - rect.top\n",
              "        };\n",
              "      }\n",
              "\n",
              "function getNearestSquare(position) {\n",
              "    var x = position.x;\n",
              "    var y = position.y;\n",
              "\n",
              "    if (x < 0 || y < 0) return null;\n",
              "    x = (Math.floor(x / 20) * 20) + 0.5\n",
              "    y = (Math.floor(y / 20) * 20) + 0.5\n",
              "    return {x: x, y: y};\n",
              "}\n",
              "\n",
              "function containsObject(obj, list) {\n",
              "    var i;\n",
              "    for (i = 0; i < list.length; i++) {\n",
              "        if (list[i].x === obj.x && list[i].y == obj.y) {\n",
              "            return i;\n",
              "        }\n",
              "    }\n",
              "    return -1;\n",
              "}\n",
              "\n",
              "borders = []\n",
              "\n",
              "canvas.onmousedown = ()=>{\n",
              "    var pos = getNearestSquare(getMousePos(canvas, mouse));\n",
              "    if (pos != null) {\n",
              "        index = containsObject(pos, borders)\n",
              "        if (index != -1){\n",
              "            borders.splice(index, 1)\n",
              "            ctx.clearRect(pos.x + 1, pos.y, 19, 19)\n",
              "        }\n",
              "        else{\n",
              "            ctx.fillRect(pos.x+1,pos.y+1,18,18);\n",
              "            borders.push(pos)\n",
              "        }\n",
              "        ctx.fillStyle=\"#000000\";\n",
              "    }\n",
              "}\n",
              "var data = new Promise(resolve=>{\n",
              "  button.onclick = ()=>{\n",
              "    resolve(canvas.toDataURL('image/png'))\n",
              "  }\n",
              "})\n",
              "</script>\n"
            ],
            "text/plain": [
              "<IPython.core.display.HTML object>"
            ]
          },
          "metadata": {}
        },
        {
          "output_type": "stream",
          "name": "stdout",
          "text": [
            "data:image/png;base64,iVBORw0KGgoAAAANSUhEUgAAAS0AAAEtCAYAAABd4zbuAAAAAXNSR0IArs4c6QAAEMxJREFUeF7t3MGO3MgRRVHN/3+0DaksAUR1LZ5vokWbpzezIQvTJyIfM6PY+ufHjx//+uGHAAEC/yMC//wntH7+99TPzxD0ef+9Jr//3u7nnfz+z/2EViuwRcJvFRCqq9j1+n8JrQYotPitAkJrFRNajg+tZ/jxmwSOh7Sd1uT/5cXHi2ImmIqiHonv/g8lodUK7HjIbxUQqquY4+H9nyR2WqmrhULiu//6sNNqBbbT4rcKCNVVzE7r/k8SO63U1UIh8d1/fdhptQLbafFbBYTqKmandf8niZ1W6mqhkPjuvz7stFqB7bT4rQJCdRWz07r/k8ROK3W1UEh8918fdlqtwHZa/FYBobqK2Wnd/0lip5W6WigkvvuvDzutVmA7LX6rgFBdxey07v8ksdNKXS0UEt/914edViuwnRa/VUCormJ2Wvd/kthppa4WConv/uvj906r/ZruJkCAwDcJOB52aE/2ZsiP3yLgn1tetD5ca9E1RH78FgGhtWgJrV8CQqY1Db/o53jYAC1ifquA0FrFfHtop9B6hh+/SeB4SNtpTf5fXny8KF55SEVRj8R3/4eS0GoFdjzktwoI1VXM8fD+TxI7rdTVQiHx3X992Gm1Attp8VsFhOoqZqd1/yeJnVbqaqGQ+O6/Puy0WoHttPitAkJ1FbPTuv+TxE4rdbVQSHz3Xx92Wq3Adlr8VgGhuorZad3/SWKnlbpaKCS++68PO61WYDstfquAUF3F7LTu/ySx00pdLRQS3/3Xh51WK7CdFr9VQKiuYnZa93+S2GmlrhYKie/+68NOqxXYTovfKiBUV7EPO632Me4mQIDANwnYaXVoT85myI/fIuCfW160Plxr0TVEfvwWAaG1aAmtXwJCpjUNv+jneNgALWJ+q4DQWsU+DOJ/htepH0Vpkvz4LQKP6xc7raU9vr72cU3jPbLUNPol8f0w02p+Zjz8ZgGhNZNdbhBazU9o8ZsFhNZMJrQ0TWwax8MEqP8Sn+Nh43vdrQmbIj9+i4Dj4aL14VqLriHy47cICK1FS2jZWeqXWeD4Q8krD3MN3m44XhQzo1QU9Uh89x93CK1WYDMtfquAUF3Frtc7HjY/xyV+s4DQmskuNwit5ie0+M0CQmsmE1qaJjaNmVsC1H+Jz3taje91tyZsivz4LQKOh4vWh2stuobIj98i8Ce0lptcS4AAgb8m4JWHTm+n0Az58VsEHA8XLcdDMzz9MgscfyjZac01eLvheFF8O5eKoh6J7/5fLAmtVmDfHvJbBYTqKna93vGw+Tku8ZsFhNZMdrlBaDU/ocVvFhBaM5nQ0jSxaczcEqD+S3zeiG98r7s1YVPkx28RcDxctD5ca9E1RH78FgGhtWgJLTtL/TILHH8oeeVhrsHbDceLYmaUiqIeie/+4w6h1QpspsVvFRCqq9j1esfD5ue4xG8WEFoz2eUGodX8hBa/WUBozWRCS9PEpjFzS4D6L/F5T6vxve7WhE2RH79FwPFw0fpwrUXXEPnxWwSE1qIltOws9csscPyh5JWHuQZvNxwviplRKop6JL77jzt+h1b7Nd1NgACBbxKw0+rQnuzNkB+/RcBMa9Ey0zLT0i+zwPGHkp3WXAMzLTO31DTHF/HT6iG0Uv/ZeXS++w9+nxYKd/99hVZfdZ6czZAfv0XATGvRMtOys9Qvs8Dxh5Kd1lwDM627Hx/8/6WmPh4yp+shtFJ97Tw6n5lWNLx9yAitWGF/4JwBH7dITi86n5d60Ewr8b1utogbIj9+i4DQWrQM4oW0fpkFjj+UzLTmGhjEO96kpjm+iJ9WD6GV+s/Oo/M5XkfDx4Wg0IodY6aVAR+36J62Mzr9+wqtvObsFCKh0GqAj/MTWq1hfHvIbxV4XMjYaa0t8n69pmmG/PgtAsf7xU5r4f/62uNFOf1k8nmpyOqb+M6PT4RWK4jjIb9VQAiuYtfr/7xc2j7G3QQIEPgmATutDu3J2Qz58VsE/BnPovXhWouuIfLjtwgIrUVLaP0SEDKtafhFP8fDBmgR81sFhNYq9mEQ/zO8Tv0oSpPkx28ReFy/2Gkt7fH1tY9rGu99pabRL4nvh5lW8zPj4TcLCK2Z7HKD0Gp+QovfLCC0ZjKhpWli0zgeJkD9l/gcDxvf625N2BT58VsEHA8XrQ/XWnQNkR+/RUBoLVpCy85Sv8wCxx9KXnmYa/B2w/GimBmloqhH4rv/uENotQKbafFbBYTqKna93vGw+Tku8ZsFhNZMdrlBaDU/ocVvFhBaM5nQ0jSxaczcEqD+S3ze02p8r7s1YVPkx28RcDxctD5ca9E1RH78FgH/Rvyi5VoCBP6+gFceeg3sFJohP36LgOPhouV4aIanX2aB4w8lO625Bm83HC+Kb+dSUdQj8d3/iyWh1Qrs20N+q4BQXcWu1zseNj/HJX6zgNCayS43CK3mJ7T4zQJCayYTWpomNo2ZWwLUf4nPG/GN73W3JmyK/PgtAo6Hi9aHay26hsiP3yIgtBYtoWVnqV9mgeMPJa88zDV4u+F4UcyMUlHUI/Hdf9whtFqBzbT4rQJCdRW7Xu942Pwcl/jNAkJrJrvcILSan9DiNwsIrZlMaGma2DRmbglQ/yU+72k1vtfdmrAp8uO3CDgeLlofrrXoGiI/fouA0Fq0hJadpX6ZBY4/lLzyMNfg7YbjRTEzSkVRj8R3/3HH79Bqv6a7CRAg8E0Cdlod2pO9GfLjtwiYaS1aZlpmWvplFjj+ULLTmmtgpmXmlprm+CJ+Wj2EVuo/O4/Od//B79NC4e6/r9Dqq86Tsxny47cImGktWmZadpb6ZRY4/lCy05prYKZ19+OD/7/U1MdD5nQ9hFaqr51H5zPTioa3DxmhFSvsD5wz4OMWyelF5/NSD5ppJb7XzRZxQ+THbxEQWouWQbyQ1i+zwPGHkpnWXAODeMeb1DTHF/HT6iG0Uv/ZeXQ+x+to+LgQFFqxY8y0MuDjFt3Tdkanf1+hldecnUIkFFoN8HF+Qqs1jG8P+a0CjwsZO621Rd6v1zTNkB+/ReB4v9hpLfxfX3u8KKefTD4vFVl9E9/58YnQagVxPOS3CgjBVex6/Z+XS9vHuJsAAQLfJGCn1aE9OZshP36LgD/jWbQ+XGvRNUR+/BYBobVoCa1fAkKmNQ2/6Od42AAtYn6rgNBaxT4M4n+G16kfRWmS/PgtAo/rFzutpT2+vvZxTeO9r9Q0+iXx/TDTan5mPPxmAaE1k11uEFrNT2jxmwWE1kwmtDRNbBrHwwSo/xKf42Hje92tCZsiP36LgOPhovXhWouuIfLjtwgIrUVLaNlZ6pdZ4PhDySsPcw3ebjheFDOjVBT1SHz3H3cIrVZgMy1+q4BQXcWu1zseNj/HJX6zgNCayS43CK3mJ7T4zQJCayYTWpomNo2ZWwLUf4nPe1qN73W3JmyK/PgtAo6Hi9aHay26hsiP3yLg34hftFxLgMDfF/DKQ6+BnUIz5MdvEXA8XLQcD83w9MsscPyhZKc11+DthuNF8e1cKop6JL77f7EktFqBfXvIbxUQqqvY9XrHw+bnuMRvFhBaM9nlBqHV/IQWv1lAaM1kQkvTxKYxc0uA+i/xeSO+8b3u1oRNkR+/RcDxcNH6cK1F1xD58VsEhNaiJbTsLPXLLHD8oeSVh7kGbzccL4qZUSqKeiS++487hFYrsJkWv1VAqK5i1+sdD5uf4xK/WUBozWSXG4RW8xNa/GYBoTWTCS1NE5vGzC0B6r/E5z2txve6WxM2RX78FgHHw0Xrw7UWXUPkx28REFqLltCys9Qvs8Dxh5JXHuYavN1wvChmRqko6pH47j/u+B1a7dd0NwECBL5JwE6rQ3uyN0N+/BYBM61Fy0zLTEu/zALHH0p2WnMNzLTM3FLTHF/ET6uH0Er9Z+fR+e4/+H1aKNz99xVafdV5cjZDfvwWATOtRctMy85Sv8wCxx9KdlpzDcy07n588P+Xmvp4yJyuh9BK9bXz6HxmWtHw9iEjtGKF/YFzBnzcIjm96Hxe6kEzrcT3utkiboj8+C0CQmvRMogX0vplFjj+UDLTmmtgEO94k5rm+CJ+Wj2EVuo/O4/O53gdDR8XgkIrdoyZVgZ83KJ72s7o9O8rtPKas1OIhEKrAT7OT2i1hvHtIb9V4HEhY6e1tsj79ZqmGfLjtwgc7xc7rYX/62uPF+X0k8nnpSKrb+I7Pz4RWq0gjof8VgEhuIpdr//zcmn7GHcTIEDgmwTstDq0J2cz5MdvEfBnPIvWh2stuobIj98iILQWLaH1S0DItKbhF/0cDxugRcxvFRBaq9iHQfzP8Dr1oyhNkh+/ReBx/WKntbTH19c+rmm895WaRr8kvh9mWs3PjIffLCC0ZrLLDUKr+QktfrOA0JrJhJamiU3jeJgA9V/iczxsfK+7NWFT5MdvEXA8XLQ+XGvRNUR+/BYBobVoCS07S/0yCxx/KHnlYa7B2w3Hi2JmlIqiHonv/uMOodUKbKbFbxUQqqvY9XrHw+bnuMRvFhBaM9nlBqHV/IQWv1lAaM1kQkvTxKYxc0uA+i/xeU+r8b3u1oRNkR+/RcDxcNH6cK1F1xD58VsE/Bvxi5ZrCRD4+wJeeeg1sFNohvz4LQKOh4uW46EZnn6ZBY4/lOy05hq83XC8KL6dS0VRj8R3/y+WhFYrsG8P+a0CQnUVu17veNj8HJf4zQJCaya73CC0mp/Q4jcLCK2ZTGhpmtg0Zm4JUP8lPm/EN77X3ZqwKfLjtwg4Hi5aH6616BoiP36LgNBatISWnaV+mQWOP5S88jDX4O2G40UxM0pFUY/Ed/9xh9BqBTbT4rcKCNVV7Hq942Hzc1ziNwsIrZnscoPQan5Ci98sILRmMqGlaWLTmLklQP2X+Lyn1fhed2vCpsiP3yLgeLhofbjWomuI/PgtAkJr0RJadpb6ZRY4/lDyysNcg7cbjhfFzCgVRT0S3/3HHb9Dq/2a7iZAgMA3CdhpdWhP9mbIj98iYKa1aJlpmWnpl1ng+EPJTmuugZmWmVtqmuOL+Gn1EFqp/+w8Ot/9B79PC4W7/75Cq686T85myI/fImCmtWiZadlZ6pdZ4PhDyU5rroGZ1t2PD/7/UlMfD5nT9RBaqb52Hp3PTCsa3j5khFassD9wzoCPWySnF53PSz1oppX4XjdbxA2RH79FQGgtWgbxQlq/zALHH0pmWnMNDOIdb1LTHF/ET6uH0Er9Z+fR+Ryvo+HjQlBoxY4x08qAj1t0T9sZnf59hVZec3YKkVBoNcDH+Qmt1jC+PeS3CjwuZOy01hZ5v17TNEN+/BaB4/1ip7Xwf33t8aKcfjL5vFRk9U1858cnQqsVxPGQ3yogBFex6/V/Xi5tH+NuAgQIfJOAnVaH9uRshvz4LQL+jGfR+nCtRdcQ+fFbBITWoiW0fgkImdY0/KKf42EDtIj5rQJCaxX7MIj/GV6nfhSlSfLjtwg8rl/stJb2+PraxzWN975S0+iXxPfDTKv5mfHwmwWE1kx2uUFoNT+hxW8WEFozmdDSNLFpHA8ToP5LfI6Hje91tyZsivz4LQKOh4vWh2stuobIj98iILQWLaFlZ6lfZoHjDyWvPMw1eLvheFHMjFJR1CPx3X/cIbRagc20+K0CQnUVu17veNj8HJf4zQJCaya73CC0mp/Q4jcLCK2ZTGhpmtg0Zm4JUP8lPu9pNb7X3ZqwKfLjtwg4Hi5aH6616BoiP36LgH8jftFyLQECf13gn38DRVPhAcQCB3QAAAAASUVORK5CYII=\n"
          ]
        },
        {
          "output_type": "execute_result",
          "data": {
            "text/plain": [
              "4370"
            ]
          },
          "metadata": {},
          "execution_count": 30
        }
      ]
    },
    {
      "cell_type": "markdown",
      "metadata": {
        "id": "aeYumpL5FrUF"
      },
      "source": [
        "Οι συναρτήσεις στο παρακάτω κελί κώδικα είναι βοηθητικές. Μετατρέπουν την εικόνα που αποθηκεύεται από την ```draw``` του προηγούμενου κελιου ξανά σε αντικείμενο τύπου Maze για να μπορέσετε να τρέξετε τους αλγορίθμους που έχετε υλοποιήσει καθώς και τον κώδικα visualization που σας δίνεται."
      ]
    },
    {
      "cell_type": "code",
      "metadata": {
        "id": "D8fS2Z9Xg4fS"
      },
      "source": [
        "def find_points(image_array, pixels):\n",
        "    points = []\n",
        "    for grid_i, i in enumerate(range (10, image_array.shape[0]-10, 20)):\n",
        "        for grid_j, j in enumerate(range (10, image_array.shape[1]-10, 20)):\n",
        "            if np.array_equal(image_array[i][j], pixels):\n",
        "                points.append([grid_i+1, grid_j+1])\n",
        "    return points\n",
        "\n",
        "def load_maze(fname='/content/drawing.png'):\n",
        "    N = 17\n",
        "    image = PIL.Image.open(fname)\n",
        "    image_array = np.round(np.array(image)/255)\n",
        "\n",
        "    start_x, start_y = find_points(image_array, [0,1,0,1])[0]\n",
        "    end_x, end_y = find_points(image_array, [1, 0, 0, 1])[0]\n",
        "    walls = find_points(image_array, [0, 0, 0, 1])\n",
        "    new_grid = Maze(N, (start_x, start_y), (end_x, end_y))\n",
        "\n",
        "    for i in range(N):\n",
        "        for j in range(N):\n",
        "            if [i, j] in walls:\n",
        "                new_grid.grid[i,j] = 0\n",
        "            else:\n",
        "                new_grid.grid[i, j] = 1\n",
        "\n",
        "    g = new_grid\n",
        "    g.draw_map()\n",
        "    return g\n"
      ],
      "execution_count": 31,
      "outputs": []
    },
    {
      "cell_type": "markdown",
      "metadata": {
        "id": "8o3F5sGT1YNm"
      },
      "source": [
        "\n",
        "Υπενθυμίζεται ότι το output των κελιών που σχηματίζετε διατηρείται για περιορισμένο χρονικό διάστημα στο notebook, γι αυτό καλείστε να αποθηκεύσετε τη φωτογραφία (το πραγματοποιεί η συνάρτηση draw()) και να τη μεταφέρετε στο ανάλογο markdown."
      ]
    },
    {
      "cell_type": "markdown",
      "metadata": {
        "id": "tprNeqaPIdlW"
      },
      "source": [
        "### 4.1.  "
      ]
    },
    {
      "cell_type": "code",
      "metadata": {
        "id": "vF3u1cCeIo9H",
        "colab": {
          "base_uri": "https://localhost:8080/",
          "height": 397
        },
        "outputId": "71a2dfbb-93ad-4b93-cad4-732f0849d473"
      },
      "source": [
        "draw(filename='4.1.png')"
      ],
      "execution_count": 11,
      "outputs": [
        {
          "output_type": "display_data",
          "data": {
            "text/html": [
              "\n",
              "<canvas width=301 height=301></canvas>\n",
              "<br>\n",
              "\n",
              "<button id = \"start\" style=\"background-color: #008000\">Start</button>\n",
              "<button id = \"end\" style=\"background-color: #800000\">End</button>\n",
              "<button id = \"finish\">Finish</button>\n",
              "<script>\n",
              "\n",
              "var canvas = document.querySelector('canvas')\n",
              "var ctx = canvas.getContext('2d')\n",
              "\n",
              "for (var x = 0.5; x < 301; x += 20) {\n",
              "  ctx.moveTo(x, 0);\n",
              "  ctx.lineTo(x, 300);\n",
              "}\n",
              "\n",
              "for (var y = 0.5; y < 301; y += 20) {\n",
              "  ctx.moveTo(0, y);\n",
              "  ctx.lineTo(300, y);\n",
              "}\n",
              "\n",
              "ctx.strokeStyle = \"#000\";\n",
              "ctx.stroke();\n",
              "\n",
              "var button = document.getElementById('finish')\n",
              "var start_button = document.getElementById('start')\n",
              "var end_button = document.getElementById('end')\n",
              "\n",
              "\n",
              "start_button.onclick = ()=>{\n",
              "    ctx.fillStyle=\"#008000\";\n",
              "  }\n",
              "\n",
              "end_button.onclick = ()=>{\n",
              "    ctx.fillStyle=\"#800000\";\n",
              "  }\n",
              "   \n",
              "\n",
              "var mouse = {x: 0, y: 0}\n",
              "canvas.addEventListener('mousemove', function(e) {\n",
              "  mouse.x = e.pageX - this.offsetLeft\n",
              "  mouse.y = e.pageY - this.offsetTop\n",
              "})\n",
              "\n",
              "function getMousePos(canvas, evt) {\n",
              "        var rect = canvas.getBoundingClientRect();\n",
              "        return {\n",
              "          x: evt.x - rect.left,\n",
              "          y: evt.y - rect.top\n",
              "        };\n",
              "      }\n",
              "\n",
              "function getNearestSquare(position) {\n",
              "    var x = position.x;\n",
              "    var y = position.y;\n",
              "\n",
              "    if (x < 0 || y < 0) return null;\n",
              "    x = (Math.floor(x / 20) * 20) + 0.5\n",
              "    y = (Math.floor(y / 20) * 20) + 0.5\n",
              "    return {x: x, y: y};\n",
              "}\n",
              "\n",
              "function containsObject(obj, list) {\n",
              "    var i;\n",
              "    for (i = 0; i < list.length; i++) {\n",
              "        if (list[i].x === obj.x && list[i].y == obj.y) {\n",
              "            return i;\n",
              "        }\n",
              "    }\n",
              "    return -1;\n",
              "}\n",
              "\n",
              "borders = []\n",
              "\n",
              "canvas.onmousedown = ()=>{\n",
              "    var pos = getNearestSquare(getMousePos(canvas, mouse));\n",
              "    if (pos != null) {\n",
              "        index = containsObject(pos, borders)\n",
              "        if (index != -1){\n",
              "            borders.splice(index, 1)\n",
              "            ctx.clearRect(pos.x + 1, pos.y, 19, 19)\n",
              "        }\n",
              "        else{\n",
              "            ctx.fillRect(pos.x+1,pos.y+1,18,18);\n",
              "            borders.push(pos)\n",
              "        }\n",
              "        ctx.fillStyle=\"#000000\";\n",
              "    }\n",
              "}\n",
              "var data = new Promise(resolve=>{\n",
              "  button.onclick = ()=>{\n",
              "    resolve(canvas.toDataURL('image/png'))\n",
              "  }\n",
              "})\n",
              "</script>\n"
            ],
            "text/plain": [
              "<IPython.core.display.HTML object>"
            ]
          },
          "metadata": {}
        },
        {
          "output_type": "stream",
          "name": "stdout",
          "text": [
            "data:image/png;base64,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\n"
          ]
        },
        {
          "output_type": "execute_result",
          "data": {
            "text/plain": [
              "4638"
            ]
          },
          "metadata": {},
          "execution_count": 11
        }
      ]
    },
    {
      "cell_type": "markdown",
      "metadata": {
        "id": "QjwsOf63Ir7V"
      },
      "source": [
        "#### Εισάγετε εδώ τη φωτογραφία όπως αυτή προέκυψε από την εκτέλεση και αλληλεπίδραση με το παραπάνω κελί.  \n",
        "\n",
        "\n",
        "#### Εισάγετε εδώ το σχολιασμό σας    \n",
        "\n",
        "\n",
        "\n",
        "Υπενθύμιση: για τον Hill Climbing δε χρειάζετει να τρέξετε τον αλγόριθμο στο χάρτη που σχηματίσατε, αρκεί ο σχολιασμός\n",
        "\n",
        "###Σχολιασμός:     \n",
        "Στη συγκεκριμένη περίπτωση, ο hill climbing, θα αποτύχει στην πρώτη του επανάληψη, καθώς θα πάει σε cell, το οποίο έχει μεγαλύτερη ευριστική από το αρχικό."
      ]
    },
    {
      "cell_type": "markdown",
      "metadata": {
        "id": "CxyUgnTaIhHa"
      },
      "source": [
        "### 4.2.  "
      ]
    },
    {
      "cell_type": "code",
      "metadata": {
        "id": "ZT1RxaUJJBok",
        "colab": {
          "base_uri": "https://localhost:8080/",
          "height": 397
        },
        "outputId": "c31e5c75-c435-40d3-d88d-6bf3e44d00b0"
      },
      "source": [
        "draw(filename='4.2.png')"
      ],
      "execution_count": 12,
      "outputs": [
        {
          "output_type": "display_data",
          "data": {
            "text/html": [
              "\n",
              "<canvas width=301 height=301></canvas>\n",
              "<br>\n",
              "\n",
              "<button id = \"start\" style=\"background-color: #008000\">Start</button>\n",
              "<button id = \"end\" style=\"background-color: #800000\">End</button>\n",
              "<button id = \"finish\">Finish</button>\n",
              "<script>\n",
              "\n",
              "var canvas = document.querySelector('canvas')\n",
              "var ctx = canvas.getContext('2d')\n",
              "\n",
              "for (var x = 0.5; x < 301; x += 20) {\n",
              "  ctx.moveTo(x, 0);\n",
              "  ctx.lineTo(x, 300);\n",
              "}\n",
              "\n",
              "for (var y = 0.5; y < 301; y += 20) {\n",
              "  ctx.moveTo(0, y);\n",
              "  ctx.lineTo(300, y);\n",
              "}\n",
              "\n",
              "ctx.strokeStyle = \"#000\";\n",
              "ctx.stroke();\n",
              "\n",
              "var button = document.getElementById('finish')\n",
              "var start_button = document.getElementById('start')\n",
              "var end_button = document.getElementById('end')\n",
              "\n",
              "\n",
              "start_button.onclick = ()=>{\n",
              "    ctx.fillStyle=\"#008000\";\n",
              "  }\n",
              "\n",
              "end_button.onclick = ()=>{\n",
              "    ctx.fillStyle=\"#800000\";\n",
              "  }\n",
              "   \n",
              "\n",
              "var mouse = {x: 0, y: 0}\n",
              "canvas.addEventListener('mousemove', function(e) {\n",
              "  mouse.x = e.pageX - this.offsetLeft\n",
              "  mouse.y = e.pageY - this.offsetTop\n",
              "})\n",
              "\n",
              "function getMousePos(canvas, evt) {\n",
              "        var rect = canvas.getBoundingClientRect();\n",
              "        return {\n",
              "          x: evt.x - rect.left,\n",
              "          y: evt.y - rect.top\n",
              "        };\n",
              "      }\n",
              "\n",
              "function getNearestSquare(position) {\n",
              "    var x = position.x;\n",
              "    var y = position.y;\n",
              "\n",
              "    if (x < 0 || y < 0) return null;\n",
              "    x = (Math.floor(x / 20) * 20) + 0.5\n",
              "    y = (Math.floor(y / 20) * 20) + 0.5\n",
              "    return {x: x, y: y};\n",
              "}\n",
              "\n",
              "function containsObject(obj, list) {\n",
              "    var i;\n",
              "    for (i = 0; i < list.length; i++) {\n",
              "        if (list[i].x === obj.x && list[i].y == obj.y) {\n",
              "            return i;\n",
              "        }\n",
              "    }\n",
              "    return -1;\n",
              "}\n",
              "\n",
              "borders = []\n",
              "\n",
              "canvas.onmousedown = ()=>{\n",
              "    var pos = getNearestSquare(getMousePos(canvas, mouse));\n",
              "    if (pos != null) {\n",
              "        index = containsObject(pos, borders)\n",
              "        if (index != -1){\n",
              "            borders.splice(index, 1)\n",
              "            ctx.clearRect(pos.x + 1, pos.y, 19, 19)\n",
              "        }\n",
              "        else{\n",
              "            ctx.fillRect(pos.x+1,pos.y+1,18,18);\n",
              "            borders.push(pos)\n",
              "        }\n",
              "        ctx.fillStyle=\"#000000\";\n",
              "    }\n",
              "}\n",
              "var data = new Promise(resolve=>{\n",
              "  button.onclick = ()=>{\n",
              "    resolve(canvas.toDataURL('image/png'))\n",
              "  }\n",
              "})\n",
              "</script>\n"
            ],
            "text/plain": [
              "<IPython.core.display.HTML object>"
            ]
          },
          "metadata": {}
        },
        {
          "output_type": "stream",
          "name": "stdout",
          "text": [
            "data:image/png;base64,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\n"
          ]
        },
        {
          "output_type": "execute_result",
          "data": {
            "text/plain": [
              "5285"
            ]
          },
          "metadata": {},
          "execution_count": 12
        }
      ]
    },
    {
      "cell_type": "markdown",
      "metadata": {
        "id": "2whQnhT7JGbR"
      },
      "source": [
        "#### Εισάγετε εδώ τη φωτογραφία όπως αυτή προέκυψε από την εκτέλεση και αλληλεπίδραση με το παραπάνω κελί.  \n",
        "\n",
        "\n",
        "#### Εισάγετε εδώ το σχολιασμό σας \n",
        "\n",
        "###Σχολιασμός:      \n",
        "\n",
        "Στην υλοποίηση μας για τον Α*, σε περίπτωση ισοβαθμίας κόμβων, έχουμε δώσει προτεραιότητα σε αυτόν με την μικρότερη πραγματική απόσταση από τον αρχικό κόμβο. Οπότε σε αυτή τη περίπτωση, ο αλγόριθμος (με ευριστική manhattan) θα τρέξει σαν BFS και θα ανατρέξει σε όλα τα ενδιάμεσα κελιά πρωτού φτάσει στον στόχο. Αυτό το συμπέρασμα μπορεί να διαπιστωθεί και από τον χρόνο που θέλει ο παρακάτω κώδικας, για να τρέξει. Στην περίπτωση της ευκλείδιας απόστασης ως ευριστική, παίρνουμε ως αποτέλεσμα διαφορετικό μονοπάτι (ίδιου μεγέθους), και ο χρόνος που απαιτείται είναι ελαφρώς μικρότερος."
      ]
    },
    {
      "cell_type": "code",
      "metadata": {
        "id": "mSCwE_MZ9Ewa",
        "colab": {
          "base_uri": "https://localhost:8080/",
          "height": 252
        },
        "outputId": "05b0bb8b-777d-40cf-f76e-63a7541d1f90"
      },
      "source": [
        "g = load_maze('4.2.png')"
      ],
      "execution_count": 13,
      "outputs": [
        {
          "output_type": "display_data",
          "data": {
            "image/png": "[encoded data removed]",
            "text/plain": [
              "<Figure size 432x288 with 1 Axes>"
            ]
          },
          "metadata": {}
        }
      ]
    },
    {
      "cell_type": "code",
      "metadata": {
        "id": "a-M664IJ9GR-",
        "colab": {
          "base_uri": "https://localhost:8080/",
          "height": 252
        },
        "outputId": "dcd7f17b-a73e-4471-abd9-f55d3c940da2"
      },
      "source": [
        "pf = Pathfinder(g, c = lambda x,y: 1, h = manhattan)   # change arguments to choose the appropriate pathfinding algorithm and cost/heuristic (if applicable)\n",
        "g.draw_map(pf.get_path())"
      ],
      "execution_count": 16,
      "outputs": [
        {
          "output_type": "display_data",
          "data": {
            "image/png": "[encoded data removed]",
            "text/plain": [
              "<Figure size 432x288 with 1 Axes>"
            ]
          },
          "metadata": {}
        }
      ]
    },
    {
      "cell_type": "code",
      "metadata": {
        "id": "ZCb5j2Ul_uCo"
      },
      "source": [
        "pf.vis.show_gif()"
      ],
      "execution_count": null,
      "outputs": []
    },
    {
      "cell_type": "markdown",
      "metadata": {
        "id": "rqqmkt3U_9q1"
      },
      "source": [
        "### 4.3."
      ]
    },
    {
      "cell_type": "code",
      "metadata": {
        "id": "UwqILZmBJjJ-",
        "colab": {
          "base_uri": "https://localhost:8080/",
          "height": 397
        },
        "outputId": "f32e5ee9-f478-4150-9cb3-c1f29558d50d"
      },
      "source": [
        "draw(filename='4.3.png')"
      ],
      "execution_count": 32,
      "outputs": [
        {
          "output_type": "display_data",
          "data": {
            "text/html": [
              "\n",
              "<canvas width=301 height=301></canvas>\n",
              "<br>\n",
              "\n",
              "<button id = \"start\" style=\"background-color: #008000\">Start</button>\n",
              "<button id = \"end\" style=\"background-color: #800000\">End</button>\n",
              "<button id = \"finish\">Finish</button>\n",
              "<script>\n",
              "\n",
              "var canvas = document.querySelector('canvas')\n",
              "var ctx = canvas.getContext('2d')\n",
              "\n",
              "for (var x = 0.5; x < 301; x += 20) {\n",
              "  ctx.moveTo(x, 0);\n",
              "  ctx.lineTo(x, 300);\n",
              "}\n",
              "\n",
              "for (var y = 0.5; y < 301; y += 20) {\n",
              "  ctx.moveTo(0, y);\n",
              "  ctx.lineTo(300, y);\n",
              "}\n",
              "\n",
              "ctx.strokeStyle = \"#000\";\n",
              "ctx.stroke();\n",
              "\n",
              "var button = document.getElementById('finish')\n",
              "var start_button = document.getElementById('start')\n",
              "var end_button = document.getElementById('end')\n",
              "\n",
              "\n",
              "start_button.onclick = ()=>{\n",
              "    ctx.fillStyle=\"#008000\";\n",
              "  }\n",
              "\n",
              "end_button.onclick = ()=>{\n",
              "    ctx.fillStyle=\"#800000\";\n",
              "  }\n",
              "   \n",
              "\n",
              "var mouse = {x: 0, y: 0}\n",
              "canvas.addEventListener('mousemove', function(e) {\n",
              "  mouse.x = e.pageX - this.offsetLeft\n",
              "  mouse.y = e.pageY - this.offsetTop\n",
              "})\n",
              "\n",
              "function getMousePos(canvas, evt) {\n",
              "        var rect = canvas.getBoundingClientRect();\n",
              "        return {\n",
              "          x: evt.x - rect.left,\n",
              "          y: evt.y - rect.top\n",
              "        };\n",
              "      }\n",
              "\n",
              "function getNearestSquare(position) {\n",
              "    var x = position.x;\n",
              "    var y = position.y;\n",
              "\n",
              "    if (x < 0 || y < 0) return null;\n",
              "    x = (Math.floor(x / 20) * 20) + 0.5\n",
              "    y = (Math.floor(y / 20) * 20) + 0.5\n",
              "    return {x: x, y: y};\n",
              "}\n",
              "\n",
              "function containsObject(obj, list) {\n",
              "    var i;\n",
              "    for (i = 0; i < list.length; i++) {\n",
              "        if (list[i].x === obj.x && list[i].y == obj.y) {\n",
              "            return i;\n",
              "        }\n",
              "    }\n",
              "    return -1;\n",
              "}\n",
              "\n",
              "borders = []\n",
              "\n",
              "canvas.onmousedown = ()=>{\n",
              "    var pos = getNearestSquare(getMousePos(canvas, mouse));\n",
              "    if (pos != null) {\n",
              "        index = containsObject(pos, borders)\n",
              "        if (index != -1){\n",
              "            borders.splice(index, 1)\n",
              "            ctx.clearRect(pos.x + 1, pos.y, 19, 19)\n",
              "        }\n",
              "        else{\n",
              "            ctx.fillRect(pos.x+1,pos.y+1,18,18);\n",
              "            borders.push(pos)\n",
              "        }\n",
              "        ctx.fillStyle=\"#000000\";\n",
              "    }\n",
              "}\n",
              "var data = new Promise(resolve=>{\n",
              "  button.onclick = ()=>{\n",
              "    resolve(canvas.toDataURL('image/png'))\n",
              "  }\n",
              "})\n",
              "</script>\n"
            ],
            "text/plain": [
              "<IPython.core.display.HTML object>"
            ]
          },
          "metadata": {}
        },
        {
          "output_type": "stream",
          "name": "stdout",
          "text": [
            "data:image/png;base64,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\n"
          ]
        },
        {
          "output_type": "execute_result",
          "data": {
            "text/plain": [
              "5700"
            ]
          },
          "metadata": {},
          "execution_count": 32
        }
      ]
    },
    {
      "cell_type": "markdown",
      "metadata": {
        "id": "-A3mBvHiJoQq"
      },
      "source": [
        "#### Εισάγετε εδώ τη φωτογραφία όπως αυτή προέκυψε από την εκτέλεση και αλληλεπίδραση με το παραπάνω κελί.  \n",
        "\n",
        "\n",
        "#### Εισάγετε εδώ το σχολιασμό σας \n",
        "\n",
        "###Σχολιασμός:      \n",
        "Στο συγκεκριμένο παράδειγμα, τόσο ο  Greedy Best-First, όσο και ο Α* θα αρχίσουν να πηγαίνουν προς τα δεξιά, με μόνη διαφορά πως αυτή τη στιγμή και μετά ο greedy Best-First θα εγκλωβιστεί στο επομένο μεγάλο μονοπάτι, κάθως οι ευριστικές θα είναι πάντα μικρότερες από αυτή του αρχικού κόμβου. Αντίθετα, ο Α* αφού διασχίσει την πρώτη δεξιά οριζόντια γραμμή και μετακινηθεί δύο cells κάτω, θα επιστρέψει στο αριστερό παιδί του αρχικού κόμβου και θα ακολουθήσει το συντομότερο μονοπάτι, καθώς τα αθροίσματα θα αρχίζουν να μεγαλώνουν, λόγω της πραγματικής απόστασης. Οι δύο αλγόριθμοι θα συμπεριφερθούν με τον ίδιο τρόπο, όταν θεωρούμε 0 την πραγματική απόσταση που έχουμε διανύσει μέχρι κάποια στιγμή."
      ]
    },
    {
      "cell_type": "code",
      "metadata": {
        "id": "apabzO95ACov",
        "colab": {
          "base_uri": "https://localhost:8080/",
          "height": 252
        },
        "outputId": "42a18e81-8a8d-4735-f1cf-d9bae7d3acde"
      },
      "source": [
        "g = load_maze('4.3.png')"
      ],
      "execution_count": 33,
      "outputs": [
        {
          "output_type": "display_data",
          "data": {
            "image/png": "[encoded data removed]",
            "text/plain": [
              "<Figure size 432x288 with 1 Axes>"
            ]
          },
          "metadata": {}
        }
      ]
    },
    {
      "cell_type": "code",
      "metadata": {
        "id": "V1s5kFo5ADsb",
        "colab": {
          "base_uri": "https://localhost:8080/",
          "height": 252
        },
        "outputId": "8253672c-9b63-47aa-d46e-5e77ce23dd86"
      },
      "source": [
        "pf = Pathfinder(g, c = lambda x,y: 0, h = manhattan)   # change arguments to choose the appropriate pathfinding algorithm and cost/heuristic (if applicable)\n",
        "g.draw_map(pf.get_path())"
      ],
      "execution_count": 34,
      "outputs": [
        {
          "output_type": "display_data",
          "data": {
            "image/png": "[encoded data removed]",
            "text/plain": [
              "<Figure size 432x288 with 1 Axes>"
            ]
          },
          "metadata": {}
        }
      ]
    },
    {
      "cell_type": "code",
      "metadata": {
        "id": "gdTJbRpmAD0X",
        "colab": {
          "base_uri": "https://localhost:8080/",
          "height": 307
        },
        "outputId": "7c371188-fb57-46be-b7f0-a31effb46f77"
      },
      "source": [
        "pf.vis.show_gif()"
      ],
      "execution_count": 24,
      "outputs": [
        {
          "output_type": "error",
          "ename": "KeyboardInterrupt",
          "evalue": "ignored",
          "traceback": [
            "\u001b[0;31m---------------------------------------------------------------------------\u001b[0m",
            "\u001b[0;31mKeyboardInterrupt\u001b[0m                         Traceback (most recent call last)",
            "\u001b[0;32m<ipython-input-24-03109645b455>\u001b[0m in \u001b[0;36m<module>\u001b[0;34m()\u001b[0m\n\u001b[0;32m----> 1\u001b[0;31m \u001b[0mpf\u001b[0m\u001b[0;34m.\u001b[0m\u001b[0mvis\u001b[0m\u001b[0;34m.\u001b[0m\u001b[0mshow_gif\u001b[0m\u001b[0;34m(\u001b[0m\u001b[0;34m)\u001b[0m\u001b[0;34m\u001b[0m\u001b[0;34m\u001b[0m\u001b[0m\n\u001b[0m",
            "\u001b[0;32m<ipython-input-5-938f2d875145>\u001b[0m in \u001b[0;36mshow_gif\u001b[0;34m(self, fps, repeat_delay)\u001b[0m\n\u001b[1;32m     92\u001b[0m         \u001b[0mani\u001b[0m \u001b[0;34m=\u001b[0m \u001b[0mself\u001b[0m\u001b[0;34m.\u001b[0m\u001b[0mcreate_gif\u001b[0m\u001b[0;34m(\u001b[0m\u001b[0mfps\u001b[0m\u001b[0;34m,\u001b[0m \u001b[0mrepeat_delay\u001b[0m\u001b[0;34m)\u001b[0m\u001b[0;34m\u001b[0m\u001b[0;34m\u001b[0m\u001b[0m\n\u001b[1;32m     93\u001b[0m         \u001b[0;31m# return HTML(ani.to_html5_video())\u001b[0m\u001b[0;34m\u001b[0m\u001b[0;34m\u001b[0m\u001b[0;34m\u001b[0m\u001b[0m\n\u001b[0;32m---> 94\u001b[0;31m         \u001b[0;32mreturn\u001b[0m \u001b[0mHTML\u001b[0m\u001b[0;34m(\u001b[0m\u001b[0mani\u001b[0m\u001b[0;34m.\u001b[0m\u001b[0mto_jshtml\u001b[0m\u001b[0;34m(\u001b[0m\u001b[0;34m)\u001b[0m\u001b[0;34m)\u001b[0m\u001b[0;34m\u001b[0m\u001b[0;34m\u001b[0m\u001b[0m\n\u001b[0m\u001b[1;32m     95\u001b[0m \u001b[0;34m\u001b[0m\u001b[0m\n\u001b[1;32m     96\u001b[0m     \u001b[0;32mdef\u001b[0m \u001b[0mshow_last_frame\u001b[0m\u001b[0;34m(\u001b[0m\u001b[0mself\u001b[0m\u001b[0;34m)\u001b[0m\u001b[0;34m:\u001b[0m\u001b[0;34m\u001b[0m\u001b[0;34m\u001b[0m\u001b[0m\n",
            "\u001b[0;32m/usr/local/lib/python3.7/dist-packages/matplotlib/animation.py\u001b[0m in \u001b[0;36mto_jshtml\u001b[0;34m(self, fps, embed_frames, default_mode)\u001b[0m\n\u001b[1;32m   1380\u001b[0m                                     \u001b[0membed_frames\u001b[0m\u001b[0;34m=\u001b[0m\u001b[0membed_frames\u001b[0m\u001b[0;34m,\u001b[0m\u001b[0;34m\u001b[0m\u001b[0;34m\u001b[0m\u001b[0m\n\u001b[1;32m   1381\u001b[0m                                     default_mode=default_mode)\n\u001b[0;32m-> 1382\u001b[0;31m                 \u001b[0mself\u001b[0m\u001b[0;34m.\u001b[0m\u001b[0msave\u001b[0m\u001b[0;34m(\u001b[0m\u001b[0mstr\u001b[0m\u001b[0;34m(\u001b[0m\u001b[0mpath\u001b[0m\u001b[0;34m)\u001b[0m\u001b[0;34m,\u001b[0m \u001b[0mwriter\u001b[0m\u001b[0;34m=\u001b[0m\u001b[0mwriter\u001b[0m\u001b[0;34m)\u001b[0m\u001b[0;34m\u001b[0m\u001b[0;34m\u001b[0m\u001b[0m\n\u001b[0m\u001b[1;32m   1383\u001b[0m                 \u001b[0mself\u001b[0m\u001b[0;34m.\u001b[0m\u001b[0m_html_representation\u001b[0m \u001b[0;34m=\u001b[0m \u001b[0mpath\u001b[0m\u001b[0;34m.\u001b[0m\u001b[0mread_text\u001b[0m\u001b[0;34m(\u001b[0m\u001b[0;34m)\u001b[0m\u001b[0;34m\u001b[0m\u001b[0;34m\u001b[0m\u001b[0m\n\u001b[1;32m   1384\u001b[0m \u001b[0;34m\u001b[0m\u001b[0m\n",
            "\u001b[0;32m/usr/local/lib/python3.7/dist-packages/matplotlib/animation.py\u001b[0m in \u001b[0;36msave\u001b[0;34m(self, filename, writer, fps, dpi, codec, bitrate, extra_args, metadata, extra_anim, savefig_kwargs, progress_callback)\u001b[0m\n\u001b[1;32m   1150\u001b[0m                             \u001b[0mprogress_callback\u001b[0m\u001b[0;34m(\u001b[0m\u001b[0mframe_number\u001b[0m\u001b[0;34m,\u001b[0m \u001b[0mtotal_frames\u001b[0m\u001b[0;34m)\u001b[0m\u001b[0;34m\u001b[0m\u001b[0;34m\u001b[0m\u001b[0m\n\u001b[1;32m   1151\u001b[0m                             \u001b[0mframe_number\u001b[0m \u001b[0;34m+=\u001b[0m \u001b[0;36m1\u001b[0m\u001b[0;34m\u001b[0m\u001b[0;34m\u001b[0m\u001b[0m\n\u001b[0;32m-> 1152\u001b[0;31m                     \u001b[0mwriter\u001b[0m\u001b[0;34m.\u001b[0m\u001b[0mgrab_frame\u001b[0m\u001b[0;34m(\u001b[0m\u001b[0;34m**\u001b[0m\u001b[0msavefig_kwargs\u001b[0m\u001b[0;34m)\u001b[0m\u001b[0;34m\u001b[0m\u001b[0;34m\u001b[0m\u001b[0m\n\u001b[0m\u001b[1;32m   1153\u001b[0m \u001b[0;34m\u001b[0m\u001b[0m\n\u001b[1;32m   1154\u001b[0m         \u001b[0;31m# Reconnect signal for first draw if necessary\u001b[0m\u001b[0;34m\u001b[0m\u001b[0;34m\u001b[0m\u001b[0;34m\u001b[0m\u001b[0m\n",
            "\u001b[0;32m/usr/local/lib/python3.7/dist-packages/matplotlib/animation.py\u001b[0m in \u001b[0;36mgrab_frame\u001b[0;34m(self, **savefig_kwargs)\u001b[0m\n\u001b[1;32m    842\u001b[0m             \u001b[0mf\u001b[0m \u001b[0;34m=\u001b[0m \u001b[0mBytesIO\u001b[0m\u001b[0;34m(\u001b[0m\u001b[0;34m)\u001b[0m\u001b[0;34m\u001b[0m\u001b[0;34m\u001b[0m\u001b[0m\n\u001b[1;32m    843\u001b[0m             self.fig.savefig(f, format=self.frame_format,\n\u001b[0;32m--> 844\u001b[0;31m                              dpi=self.dpi, **savefig_kwargs)\n\u001b[0m\u001b[1;32m    845\u001b[0m             \u001b[0mimgdata64\u001b[0m \u001b[0;34m=\u001b[0m \u001b[0mbase64\u001b[0m\u001b[0;34m.\u001b[0m\u001b[0mencodebytes\u001b[0m\u001b[0;34m(\u001b[0m\u001b[0mf\u001b[0m\u001b[0;34m.\u001b[0m\u001b[0mgetvalue\u001b[0m\u001b[0;34m(\u001b[0m\u001b[0;34m)\u001b[0m\u001b[0;34m)\u001b[0m\u001b[0;34m.\u001b[0m\u001b[0mdecode\u001b[0m\u001b[0;34m(\u001b[0m\u001b[0;34m'ascii'\u001b[0m\u001b[0;34m)\u001b[0m\u001b[0;34m\u001b[0m\u001b[0;34m\u001b[0m\u001b[0m\n\u001b[1;32m    846\u001b[0m             \u001b[0mself\u001b[0m\u001b[0;34m.\u001b[0m\u001b[0m_total_bytes\u001b[0m \u001b[0;34m+=\u001b[0m \u001b[0mlen\u001b[0m\u001b[0;34m(\u001b[0m\u001b[0mimgdata64\u001b[0m\u001b[0;34m)\u001b[0m\u001b[0;34m\u001b[0m\u001b[0;34m\u001b[0m\u001b[0m\n",
            "\u001b[0;32m/usr/local/lib/python3.7/dist-packages/matplotlib/figure.py\u001b[0m in \u001b[0;36msavefig\u001b[0;34m(self, fname, transparent, **kwargs)\u001b[0m\n\u001b[1;32m   2201\u001b[0m             \u001b[0mself\u001b[0m\u001b[0;34m.\u001b[0m\u001b[0mpatch\u001b[0m\u001b[0;34m.\u001b[0m\u001b[0mset_visible\u001b[0m\u001b[0;34m(\u001b[0m\u001b[0mframeon\u001b[0m\u001b[0;34m)\u001b[0m\u001b[0;34m\u001b[0m\u001b[0;34m\u001b[0m\u001b[0m\n\u001b[1;32m   2202\u001b[0m \u001b[0;34m\u001b[0m\u001b[0m\n\u001b[0;32m-> 2203\u001b[0;31m         \u001b[0mself\u001b[0m\u001b[0;34m.\u001b[0m\u001b[0mcanvas\u001b[0m\u001b[0;34m.\u001b[0m\u001b[0mprint_figure\u001b[0m\u001b[0;34m(\u001b[0m\u001b[0mfname\u001b[0m\u001b[0;34m,\u001b[0m \u001b[0;34m**\u001b[0m\u001b[0mkwargs\u001b[0m\u001b[0;34m)\u001b[0m\u001b[0;34m\u001b[0m\u001b[0;34m\u001b[0m\u001b[0m\n\u001b[0m\u001b[1;32m   2204\u001b[0m \u001b[0;34m\u001b[0m\u001b[0m\n\u001b[1;32m   2205\u001b[0m         \u001b[0;32mif\u001b[0m \u001b[0mframeon\u001b[0m\u001b[0;34m:\u001b[0m\u001b[0;34m\u001b[0m\u001b[0;34m\u001b[0m\u001b[0m\n",
            "\u001b[0;32m/usr/local/lib/python3.7/dist-packages/matplotlib/backend_bases.py\u001b[0m in \u001b[0;36mprint_figure\u001b[0;34m(self, filename, dpi, facecolor, edgecolor, orientation, format, bbox_inches, **kwargs)\u001b[0m\n\u001b[1;32m   2070\u001b[0m         \u001b[0;31m# but this should be fine.\u001b[0m\u001b[0;34m\u001b[0m\u001b[0;34m\u001b[0m\u001b[0;34m\u001b[0m\u001b[0m\n\u001b[1;32m   2071\u001b[0m         \u001b[0;32mwith\u001b[0m \u001b[0mcbook\u001b[0m\u001b[0;34m.\u001b[0m\u001b[0m_setattr_cm\u001b[0m\u001b[0;34m(\u001b[0m\u001b[0mself\u001b[0m\u001b[0;34m,\u001b[0m \u001b[0mmanager\u001b[0m\u001b[0;34m=\u001b[0m\u001b[0;32mNone\u001b[0m\u001b[0;34m)\u001b[0m\u001b[0;34m,\u001b[0m\u001b[0;31m \u001b[0m\u001b[0;31m\\\u001b[0m\u001b[0;34m\u001b[0m\u001b[0;34m\u001b[0m\u001b[0m\n\u001b[0;32m-> 2072\u001b[0;31m                 \u001b[0mcbook\u001b[0m\u001b[0;34m.\u001b[0m\u001b[0m_setattr_cm\u001b[0m\u001b[0;34m(\u001b[0m\u001b[0mself\u001b[0m\u001b[0;34m.\u001b[0m\u001b[0mfigure\u001b[0m\u001b[0;34m,\u001b[0m \u001b[0mdpi\u001b[0m\u001b[0;34m=\u001b[0m\u001b[0mdpi\u001b[0m\u001b[0;34m)\u001b[0m\u001b[0;34m,\u001b[0m\u001b[0;31m \u001b[0m\u001b[0;31m\\\u001b[0m\u001b[0;34m\u001b[0m\u001b[0;34m\u001b[0m\u001b[0m\n\u001b[0m\u001b[1;32m   2073\u001b[0m                 \u001b[0mcbook\u001b[0m\u001b[0;34m.\u001b[0m\u001b[0m_setattr_cm\u001b[0m\u001b[0;34m(\u001b[0m\u001b[0mcanvas\u001b[0m\u001b[0;34m,\u001b[0m \u001b[0m_is_saving\u001b[0m\u001b[0;34m=\u001b[0m\u001b[0;32mTrue\u001b[0m\u001b[0;34m)\u001b[0m\u001b[0;34m:\u001b[0m\u001b[0;34m\u001b[0m\u001b[0;34m\u001b[0m\u001b[0m\n\u001b[1;32m   2074\u001b[0m \u001b[0;34m\u001b[0m\u001b[0m\n",
            "\u001b[0;32m/usr/lib/python3.7/contextlib.py\u001b[0m in \u001b[0;36m__enter__\u001b[0;34m(self)\u001b[0m\n\u001b[1;32m    110\u001b[0m         \u001b[0;32mdel\u001b[0m \u001b[0mself\u001b[0m\u001b[0;34m.\u001b[0m\u001b[0margs\u001b[0m\u001b[0;34m,\u001b[0m \u001b[0mself\u001b[0m\u001b[0;34m.\u001b[0m\u001b[0mkwds\u001b[0m\u001b[0;34m,\u001b[0m \u001b[0mself\u001b[0m\u001b[0;34m.\u001b[0m\u001b[0mfunc\u001b[0m\u001b[0;34m\u001b[0m\u001b[0;34m\u001b[0m\u001b[0m\n\u001b[1;32m    111\u001b[0m         \u001b[0;32mtry\u001b[0m\u001b[0;34m:\u001b[0m\u001b[0;34m\u001b[0m\u001b[0;34m\u001b[0m\u001b[0m\n\u001b[0;32m--> 112\u001b[0;31m             \u001b[0;32mreturn\u001b[0m \u001b[0mnext\u001b[0m\u001b[0;34m(\u001b[0m\u001b[0mself\u001b[0m\u001b[0;34m.\u001b[0m\u001b[0mgen\u001b[0m\u001b[0;34m)\u001b[0m\u001b[0;34m\u001b[0m\u001b[0;34m\u001b[0m\u001b[0m\n\u001b[0m\u001b[1;32m    113\u001b[0m         \u001b[0;32mexcept\u001b[0m \u001b[0mStopIteration\u001b[0m\u001b[0;34m:\u001b[0m\u001b[0;34m\u001b[0m\u001b[0;34m\u001b[0m\u001b[0m\n\u001b[1;32m    114\u001b[0m             \u001b[0;32mraise\u001b[0m \u001b[0mRuntimeError\u001b[0m\u001b[0;34m(\u001b[0m\u001b[0;34m\"generator didn't yield\"\u001b[0m\u001b[0;34m)\u001b[0m \u001b[0;32mfrom\u001b[0m \u001b[0;32mNone\u001b[0m\u001b[0;34m\u001b[0m\u001b[0;34m\u001b[0m\u001b[0m\n",
            "\u001b[0;32m/usr/local/lib/python3.7/dist-packages/matplotlib/cbook/__init__.py\u001b[0m in \u001b[0;36m_setattr_cm\u001b[0;34m(obj, **kwargs)\u001b[0m\n\u001b[1;32m   1962\u001b[0m     \u001b[0;32mtry\u001b[0m\u001b[0;34m:\u001b[0m\u001b[0;34m\u001b[0m\u001b[0;34m\u001b[0m\u001b[0m\n\u001b[1;32m   1963\u001b[0m         \u001b[0;32mfor\u001b[0m \u001b[0mattr\u001b[0m\u001b[0;34m,\u001b[0m \u001b[0mval\u001b[0m \u001b[0;32min\u001b[0m \u001b[0mkwargs\u001b[0m\u001b[0;34m.\u001b[0m\u001b[0mitems\u001b[0m\u001b[0;34m(\u001b[0m\u001b[0;34m)\u001b[0m\u001b[0;34m:\u001b[0m\u001b[0;34m\u001b[0m\u001b[0;34m\u001b[0m\u001b[0m\n\u001b[0;32m-> 1964\u001b[0;31m             \u001b[0msetattr\u001b[0m\u001b[0;34m(\u001b[0m\u001b[0mobj\u001b[0m\u001b[0;34m,\u001b[0m \u001b[0mattr\u001b[0m\u001b[0;34m,\u001b[0m \u001b[0mval\u001b[0m\u001b[0;34m)\u001b[0m\u001b[0;34m\u001b[0m\u001b[0;34m\u001b[0m\u001b[0m\n\u001b[0m\u001b[1;32m   1965\u001b[0m         \u001b[0;32myield\u001b[0m\u001b[0;34m\u001b[0m\u001b[0;34m\u001b[0m\u001b[0m\n\u001b[1;32m   1966\u001b[0m     \u001b[0;32mfinally\u001b[0m\u001b[0;34m:\u001b[0m\u001b[0;34m\u001b[0m\u001b[0;34m\u001b[0m\u001b[0m\n",
            "\u001b[0;32m/usr/local/lib/python3.7/dist-packages/matplotlib/figure.py\u001b[0m in \u001b[0;36m_set_dpi\u001b[0;34m(self, dpi, forward)\u001b[0m\n\u001b[1;32m    474\u001b[0m         \"\"\"\n\u001b[1;32m    475\u001b[0m         \u001b[0mself\u001b[0m\u001b[0;34m.\u001b[0m\u001b[0m_dpi\u001b[0m \u001b[0;34m=\u001b[0m \u001b[0mdpi\u001b[0m\u001b[0;34m\u001b[0m\u001b[0;34m\u001b[0m\u001b[0m\n\u001b[0;32m--> 476\u001b[0;31m         \u001b[0mself\u001b[0m\u001b[0;34m.\u001b[0m\u001b[0mdpi_scale_trans\u001b[0m\u001b[0;34m.\u001b[0m\u001b[0mclear\u001b[0m\u001b[0;34m(\u001b[0m\u001b[0;34m)\u001b[0m\u001b[0;34m.\u001b[0m\u001b[0mscale\u001b[0m\u001b[0;34m(\u001b[0m\u001b[0mdpi\u001b[0m\u001b[0;34m)\u001b[0m\u001b[0;34m\u001b[0m\u001b[0;34m\u001b[0m\u001b[0m\n\u001b[0m\u001b[1;32m    477\u001b[0m         \u001b[0mw\u001b[0m\u001b[0;34m,\u001b[0m \u001b[0mh\u001b[0m \u001b[0;34m=\u001b[0m \u001b[0mself\u001b[0m\u001b[0;34m.\u001b[0m\u001b[0mget_size_inches\u001b[0m\u001b[0;34m(\u001b[0m\u001b[0;34m)\u001b[0m\u001b[0;34m\u001b[0m\u001b[0;34m\u001b[0m\u001b[0m\n\u001b[1;32m    478\u001b[0m         \u001b[0mself\u001b[0m\u001b[0;34m.\u001b[0m\u001b[0mset_size_inches\u001b[0m\u001b[0;34m(\u001b[0m\u001b[0mw\u001b[0m\u001b[0;34m,\u001b[0m \u001b[0mh\u001b[0m\u001b[0;34m,\u001b[0m \u001b[0mforward\u001b[0m\u001b[0;34m=\u001b[0m\u001b[0mforward\u001b[0m\u001b[0;34m)\u001b[0m\u001b[0;34m\u001b[0m\u001b[0;34m\u001b[0m\u001b[0m\n",
            "\u001b[0;32m/usr/local/lib/python3.7/dist-packages/matplotlib/transforms.py\u001b[0m in \u001b[0;36mclear\u001b[0;34m(self)\u001b[0m\n\u001b[1;32m   1919\u001b[0m         \u001b[0;31m# A bit faster than np.identity(3).\u001b[0m\u001b[0;34m\u001b[0m\u001b[0;34m\u001b[0m\u001b[0;34m\u001b[0m\u001b[0m\n\u001b[1;32m   1920\u001b[0m         \u001b[0mself\u001b[0m\u001b[0;34m.\u001b[0m\u001b[0m_mtx\u001b[0m \u001b[0;34m=\u001b[0m \u001b[0mIdentityTransform\u001b[0m\u001b[0;34m.\u001b[0m\u001b[0m_mtx\u001b[0m\u001b[0;34m.\u001b[0m\u001b[0mcopy\u001b[0m\u001b[0;34m(\u001b[0m\u001b[0;34m)\u001b[0m\u001b[0;34m\u001b[0m\u001b[0;34m\u001b[0m\u001b[0m\n\u001b[0;32m-> 1921\u001b[0;31m         \u001b[0mself\u001b[0m\u001b[0;34m.\u001b[0m\u001b[0minvalidate\u001b[0m\u001b[0;34m(\u001b[0m\u001b[0;34m)\u001b[0m\u001b[0;34m\u001b[0m\u001b[0;34m\u001b[0m\u001b[0m\n\u001b[0m\u001b[1;32m   1922\u001b[0m         \u001b[0;32mreturn\u001b[0m \u001b[0mself\u001b[0m\u001b[0;34m\u001b[0m\u001b[0;34m\u001b[0m\u001b[0m\n\u001b[1;32m   1923\u001b[0m \u001b[0;34m\u001b[0m\u001b[0m\n",
            "\u001b[0;32m/usr/local/lib/python3.7/dist-packages/matplotlib/transforms.py\u001b[0m in \u001b[0;36minvalidate\u001b[0;34m(self)\u001b[0m\n\u001b[1;32m    132\u001b[0m         \u001b[0;32mif\u001b[0m \u001b[0mself\u001b[0m\u001b[0;34m.\u001b[0m\u001b[0mis_affine\u001b[0m\u001b[0;34m:\u001b[0m\u001b[0;34m\u001b[0m\u001b[0;34m\u001b[0m\u001b[0m\n\u001b[1;32m    133\u001b[0m             \u001b[0mvalue\u001b[0m \u001b[0;34m=\u001b[0m \u001b[0mself\u001b[0m\u001b[0;34m.\u001b[0m\u001b[0mINVALID_AFFINE\u001b[0m\u001b[0;34m\u001b[0m\u001b[0;34m\u001b[0m\u001b[0m\n\u001b[0;32m--> 134\u001b[0;31m         \u001b[0;32mreturn\u001b[0m \u001b[0mself\u001b[0m\u001b[0;34m.\u001b[0m\u001b[0m_invalidate_internal\u001b[0m\u001b[0;34m(\u001b[0m\u001b[0mvalue\u001b[0m\u001b[0;34m,\u001b[0m \u001b[0minvalidating_node\u001b[0m\u001b[0;34m=\u001b[0m\u001b[0mself\u001b[0m\u001b[0;34m)\u001b[0m\u001b[0;34m\u001b[0m\u001b[0;34m\u001b[0m\u001b[0m\n\u001b[0m\u001b[1;32m    135\u001b[0m \u001b[0;34m\u001b[0m\u001b[0m\n\u001b[1;32m    136\u001b[0m     \u001b[0;32mdef\u001b[0m \u001b[0m_invalidate_internal\u001b[0m\u001b[0;34m(\u001b[0m\u001b[0mself\u001b[0m\u001b[0;34m,\u001b[0m \u001b[0mvalue\u001b[0m\u001b[0;34m,\u001b[0m \u001b[0minvalidating_node\u001b[0m\u001b[0;34m)\u001b[0m\u001b[0;34m:\u001b[0m\u001b[0;34m\u001b[0m\u001b[0;34m\u001b[0m\u001b[0m\n",
            "\u001b[0;32m/usr/local/lib/python3.7/dist-packages/matplotlib/transforms.py\u001b[0m in \u001b[0;36m_invalidate_internal\u001b[0;34m(self, value, invalidating_node)\u001b[0m\n\u001b[1;32m    159\u001b[0m                 \u001b[0;32mif\u001b[0m \u001b[0mparent\u001b[0m \u001b[0;32mis\u001b[0m \u001b[0;32mnot\u001b[0m \u001b[0;32mNone\u001b[0m\u001b[0;34m:\u001b[0m\u001b[0;34m\u001b[0m\u001b[0;34m\u001b[0m\u001b[0m\n\u001b[1;32m    160\u001b[0m                     parent._invalidate_internal(\n\u001b[0;32m--> 161\u001b[0;31m                         value=value, invalidating_node=self)\n\u001b[0m\u001b[1;32m    162\u001b[0m \u001b[0;34m\u001b[0m\u001b[0m\n\u001b[1;32m    163\u001b[0m     \u001b[0;32mdef\u001b[0m \u001b[0mset_children\u001b[0m\u001b[0;34m(\u001b[0m\u001b[0mself\u001b[0m\u001b[0;34m,\u001b[0m \u001b[0;34m*\u001b[0m\u001b[0mchildren\u001b[0m\u001b[0;34m)\u001b[0m\u001b[0;34m:\u001b[0m\u001b[0;34m\u001b[0m\u001b[0;34m\u001b[0m\u001b[0m\n",
            "\u001b[0;32m/usr/local/lib/python3.7/dist-packages/matplotlib/transforms.py\u001b[0m in \u001b[0;36m_invalidate_internal\u001b[0;34m(self, value, invalidating_node)\u001b[0m\n\u001b[1;32m    159\u001b[0m                 \u001b[0;32mif\u001b[0m \u001b[0mparent\u001b[0m \u001b[0;32mis\u001b[0m \u001b[0;32mnot\u001b[0m \u001b[0;32mNone\u001b[0m\u001b[0;34m:\u001b[0m\u001b[0;34m\u001b[0m\u001b[0;34m\u001b[0m\u001b[0m\n\u001b[1;32m    160\u001b[0m                     parent._invalidate_internal(\n\u001b[0;32m--> 161\u001b[0;31m                         value=value, invalidating_node=self)\n\u001b[0m\u001b[1;32m    162\u001b[0m \u001b[0;34m\u001b[0m\u001b[0m\n\u001b[1;32m    163\u001b[0m     \u001b[0;32mdef\u001b[0m \u001b[0mset_children\u001b[0m\u001b[0;34m(\u001b[0m\u001b[0mself\u001b[0m\u001b[0;34m,\u001b[0m \u001b[0;34m*\u001b[0m\u001b[0mchildren\u001b[0m\u001b[0;34m)\u001b[0m\u001b[0;34m:\u001b[0m\u001b[0;34m\u001b[0m\u001b[0;34m\u001b[0m\u001b[0m\n",
            "\u001b[0;32m/usr/local/lib/python3.7/dist-packages/matplotlib/transforms.py\u001b[0m in \u001b[0;36m_invalidate_internal\u001b[0;34m(self, value, invalidating_node)\u001b[0m\n\u001b[1;32m    159\u001b[0m                 \u001b[0;32mif\u001b[0m \u001b[0mparent\u001b[0m \u001b[0;32mis\u001b[0m \u001b[0;32mnot\u001b[0m \u001b[0;32mNone\u001b[0m\u001b[0;34m:\u001b[0m\u001b[0;34m\u001b[0m\u001b[0;34m\u001b[0m\u001b[0m\n\u001b[1;32m    160\u001b[0m                     parent._invalidate_internal(\n\u001b[0;32m--> 161\u001b[0;31m                         value=value, invalidating_node=self)\n\u001b[0m\u001b[1;32m    162\u001b[0m \u001b[0;34m\u001b[0m\u001b[0m\n\u001b[1;32m    163\u001b[0m     \u001b[0;32mdef\u001b[0m \u001b[0mset_children\u001b[0m\u001b[0;34m(\u001b[0m\u001b[0mself\u001b[0m\u001b[0;34m,\u001b[0m \u001b[0;34m*\u001b[0m\u001b[0mchildren\u001b[0m\u001b[0;34m)\u001b[0m\u001b[0;34m:\u001b[0m\u001b[0;34m\u001b[0m\u001b[0;34m\u001b[0m\u001b[0m\n",
            "\u001b[0;32m/usr/local/lib/python3.7/dist-packages/matplotlib/transforms.py\u001b[0m in \u001b[0;36m_invalidate_internal\u001b[0;34m(self, value, invalidating_node)\u001b[0m\n\u001b[1;32m    159\u001b[0m                 \u001b[0;32mif\u001b[0m \u001b[0mparent\u001b[0m \u001b[0;32mis\u001b[0m \u001b[0;32mnot\u001b[0m \u001b[0;32mNone\u001b[0m\u001b[0;34m:\u001b[0m\u001b[0;34m\u001b[0m\u001b[0;34m\u001b[0m\u001b[0m\n\u001b[1;32m    160\u001b[0m                     parent._invalidate_internal(\n\u001b[0;32m--> 161\u001b[0;31m                         value=value, invalidating_node=self)\n\u001b[0m\u001b[1;32m    162\u001b[0m \u001b[0;34m\u001b[0m\u001b[0m\n\u001b[1;32m    163\u001b[0m     \u001b[0;32mdef\u001b[0m \u001b[0mset_children\u001b[0m\u001b[0;34m(\u001b[0m\u001b[0mself\u001b[0m\u001b[0;34m,\u001b[0m \u001b[0;34m*\u001b[0m\u001b[0mchildren\u001b[0m\u001b[0;34m)\u001b[0m\u001b[0;34m:\u001b[0m\u001b[0;34m\u001b[0m\u001b[0;34m\u001b[0m\u001b[0m\n",
            "\u001b[0;32m/usr/local/lib/python3.7/dist-packages/matplotlib/transforms.py\u001b[0m in \u001b[0;36m_invalidate_internal\u001b[0;34m(self, value, invalidating_node)\u001b[0m\n\u001b[1;32m    159\u001b[0m                 \u001b[0;32mif\u001b[0m \u001b[0mparent\u001b[0m \u001b[0;32mis\u001b[0m \u001b[0;32mnot\u001b[0m \u001b[0;32mNone\u001b[0m\u001b[0;34m:\u001b[0m\u001b[0;34m\u001b[0m\u001b[0;34m\u001b[0m\u001b[0m\n\u001b[1;32m    160\u001b[0m                     parent._invalidate_internal(\n\u001b[0;32m--> 161\u001b[0;31m                         value=value, invalidating_node=self)\n\u001b[0m\u001b[1;32m    162\u001b[0m \u001b[0;34m\u001b[0m\u001b[0m\n\u001b[1;32m    163\u001b[0m     \u001b[0;32mdef\u001b[0m \u001b[0mset_children\u001b[0m\u001b[0;34m(\u001b[0m\u001b[0mself\u001b[0m\u001b[0;34m,\u001b[0m \u001b[0;34m*\u001b[0m\u001b[0mchildren\u001b[0m\u001b[0;34m)\u001b[0m\u001b[0;34m:\u001b[0m\u001b[0;34m\u001b[0m\u001b[0;34m\u001b[0m\u001b[0m\n",
            "\u001b[0;32m/usr/local/lib/python3.7/dist-packages/matplotlib/transforms.py\u001b[0m in \u001b[0;36m_invalidate_internal\u001b[0;34m(self, value, invalidating_node)\u001b[0m\n\u001b[1;32m   2330\u001b[0m             \u001b[0mvalue\u001b[0m \u001b[0;34m=\u001b[0m \u001b[0mTransform\u001b[0m\u001b[0;34m.\u001b[0m\u001b[0mINVALID\u001b[0m\u001b[0;34m\u001b[0m\u001b[0;34m\u001b[0m\u001b[0m\n\u001b[1;32m   2331\u001b[0m \u001b[0;34m\u001b[0m\u001b[0m\n\u001b[0;32m-> 2332\u001b[0;31m         Transform._invalidate_internal(self, value=value,\n\u001b[0m\u001b[1;32m   2333\u001b[0m                                        invalidating_node=invalidating_node)\n\u001b[1;32m   2334\u001b[0m \u001b[0;34m\u001b[0m\u001b[0m\n",
            "\u001b[0;31mKeyboardInterrupt\u001b[0m: "
          ]
        }
      ]
    },
    {
      "cell_type": "markdown",
      "metadata": {
        "id": "x41xMK-VAGHp"
      },
      "source": [
        "### 4.4.  "
      ]
    },
    {
      "cell_type": "code",
      "metadata": {
        "id": "ndh3zuH4Jjyo",
        "colab": {
          "base_uri": "https://localhost:8080/",
          "height": 397
        },
        "outputId": "f0f27804-b5d8-4c57-d873-292d0a276555"
      },
      "source": [
        "draw(filename='4.4.png')"
      ],
      "execution_count": 63,
      "outputs": [
        {
          "output_type": "display_data",
          "data": {
            "text/html": [
              "\n",
              "<canvas width=301 height=301></canvas>\n",
              "<br>\n",
              "\n",
              "<button id = \"start\" style=\"background-color: #008000\">Start</button>\n",
              "<button id = \"end\" style=\"background-color: #800000\">End</button>\n",
              "<button id = \"finish\">Finish</button>\n",
              "<script>\n",
              "\n",
              "var canvas = document.querySelector('canvas')\n",
              "var ctx = canvas.getContext('2d')\n",
              "\n",
              "for (var x = 0.5; x < 301; x += 20) {\n",
              "  ctx.moveTo(x, 0);\n",
              "  ctx.lineTo(x, 300);\n",
              "}\n",
              "\n",
              "for (var y = 0.5; y < 301; y += 20) {\n",
              "  ctx.moveTo(0, y);\n",
              "  ctx.lineTo(300, y);\n",
              "}\n",
              "\n",
              "ctx.strokeStyle = \"#000\";\n",
              "ctx.stroke();\n",
              "\n",
              "var button = document.getElementById('finish')\n",
              "var start_button = document.getElementById('start')\n",
              "var end_button = document.getElementById('end')\n",
              "\n",
              "\n",
              "start_button.onclick = ()=>{\n",
              "    ctx.fillStyle=\"#008000\";\n",
              "  }\n",
              "\n",
              "end_button.onclick = ()=>{\n",
              "    ctx.fillStyle=\"#800000\";\n",
              "  }\n",
              "   \n",
              "\n",
              "var mouse = {x: 0, y: 0}\n",
              "canvas.addEventListener('mousemove', function(e) {\n",
              "  mouse.x = e.pageX - this.offsetLeft\n",
              "  mouse.y = e.pageY - this.offsetTop\n",
              "})\n",
              "\n",
              "function getMousePos(canvas, evt) {\n",
              "        var rect = canvas.getBoundingClientRect();\n",
              "        return {\n",
              "          x: evt.x - rect.left,\n",
              "          y: evt.y - rect.top\n",
              "        };\n",
              "      }\n",
              "\n",
              "function getNearestSquare(position) {\n",
              "    var x = position.x;\n",
              "    var y = position.y;\n",
              "\n",
              "    if (x < 0 || y < 0) return null;\n",
              "    x = (Math.floor(x / 20) * 20) + 0.5\n",
              "    y = (Math.floor(y / 20) * 20) + 0.5\n",
              "    return {x: x, y: y};\n",
              "}\n",
              "\n",
              "function containsObject(obj, list) {\n",
              "    var i;\n",
              "    for (i = 0; i < list.length; i++) {\n",
              "        if (list[i].x === obj.x && list[i].y == obj.y) {\n",
              "            return i;\n",
              "        }\n",
              "    }\n",
              "    return -1;\n",
              "}\n",
              "\n",
              "borders = []\n",
              "\n",
              "canvas.onmousedown = ()=>{\n",
              "    var pos = getNearestSquare(getMousePos(canvas, mouse));\n",
              "    if (pos != null) {\n",
              "        index = containsObject(pos, borders)\n",
              "        if (index != -1){\n",
              "            borders.splice(index, 1)\n",
              "            ctx.clearRect(pos.x + 1, pos.y, 19, 19)\n",
              "        }\n",
              "        else{\n",
              "            ctx.fillRect(pos.x+1,pos.y+1,18,18);\n",
              "            borders.push(pos)\n",
              "        }\n",
              "        ctx.fillStyle=\"#000000\";\n",
              "    }\n",
              "}\n",
              "var data = new Promise(resolve=>{\n",
              "  button.onclick = ()=>{\n",
              "    resolve(canvas.toDataURL('image/png'))\n",
              "  }\n",
              "})\n",
              "</script>\n"
            ],
            "text/plain": [
              "<IPython.core.display.HTML object>"
            ]
          },
          "metadata": {}
        },
        {
          "output_type": "stream",
          "name": "stdout",
          "text": [
            "data:image/png;base64,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\n"
          ]
        },
        {
          "output_type": "execute_result",
          "data": {
            "text/plain": [
              "4503"
            ]
          },
          "metadata": {},
          "execution_count": 63
        }
      ]
    },
    {
      "cell_type": "markdown",
      "metadata": {
        "id": "UOEI0BCCJqFz"
      },
      "source": [
        "#### Εισάγετε εδώ τη φωτογραφία όπως αυτή προέκυψε από την εκτέλεση και αλληλεπίδραση με το παραπάνω κελί.  \n",
        "\n",
        "\n",
        "#### Εισάγετε εδώ το σχολιασμό σας \n",
        "\n",
        "###Σχολιασμός:      \n",
        "\n",
        "Αρχικά, ο Α* θα βρει το βέλτιστο μονοπάτι προς τον στόχο χωρίς να περάσει από κάποιον κόμβο, που δεν ανήκει σε αυτό. Αντίθετα ο BFS, θα μπει και στο διπλανό χώρο, αποτελείται μόνο από passages και θα διπλασιάζονται οι επισκέψεις του μέχρι να τερματίσει. Παρόλα αυτά, και οι δύο αλγόριθμοι θα επιστρέψουν το ίδιο μονοπάτι. Επιπλέον, όσο αυξάνονται οι τοίχοι, τόσο τείνουν να ταυτιστούν οι δύο αλγόριθμοι (όπως και όταν δεν υπάρχει κανένας τοίχος), καθώς ο BFS αποφεύγει πολλές άσκοπες αναζητήσεις (κατα κάποιον τρόπο κατευθύνεται από τα εμπόδια)."
      ]
    },
    {
      "cell_type": "code",
      "metadata": {
        "id": "ixRxVVOwAK8K",
        "colab": {
          "base_uri": "https://localhost:8080/",
          "height": 252
        },
        "outputId": "74530b3b-1834-40ff-b5f2-c0ce2be6f9b5"
      },
      "source": [
        "g = load_maze('4.4.png')"
      ],
      "execution_count": 64,
      "outputs": [
        {
          "output_type": "display_data",
          "data": {
            "image/png": "[encoded data removed]",
            "text/plain": [
              "<Figure size 432x288 with 1 Axes>"
            ]
          },
          "metadata": {}
        }
      ]
    },
    {
      "cell_type": "code",
      "metadata": {
        "id": "3Qrz7mawALUY",
        "colab": {
          "base_uri": "https://localhost:8080/",
          "height": 252
        },
        "outputId": "e6bf5d48-d083-49e1-bb23-17709fce6292"
      },
      "source": [
        "pf = Pathfinder(g, c = lambda x,y: 1, h=manhattan)   # change arguments to choose the appropriate pathfinding algorithm and cost/heuristic (if applicable)\n",
        "g.draw_map(pf.get_path())"
      ],
      "execution_count": 68,
      "outputs": [
        {
          "output_type": "display_data",
          "data": {
            "image/png": "[encoded data removed]",
            "text/plain": [
              "<Figure size 432x288 with 1 Axes>"
            ]
          },
          "metadata": {}
        }
      ]
    },
    {
      "cell_type": "code",
      "metadata": {
        "id": "5ze26bEaALcm",
        "colab": {
          "base_uri": "https://localhost:8080/",
          "height": 307
        },
        "outputId": "ea169e42-23d8-46d8-ad11-d17f9eb9dd26"
      },
      "source": [
        "pf.vis.show_gif()"
      ],
      "execution_count": 71,
      "outputs": [
        {
          "output_type": "error",
          "ename": "EmptyStackOfImages",
          "evalue": "ignored",
          "traceback": [
            "\u001b[0;31m---------------------------------------------------------------------------\u001b[0m",
            "\u001b[0;31mEmptyStackOfImages\u001b[0m                        Traceback (most recent call last)",
            "\u001b[0;32m<ipython-input-71-03109645b455>\u001b[0m in \u001b[0;36m<module>\u001b[0;34m()\u001b[0m\n\u001b[0;32m----> 1\u001b[0;31m \u001b[0mpf\u001b[0m\u001b[0;34m.\u001b[0m\u001b[0mvis\u001b[0m\u001b[0;34m.\u001b[0m\u001b[0mshow_gif\u001b[0m\u001b[0;34m(\u001b[0m\u001b[0;34m)\u001b[0m\u001b[0;34m\u001b[0m\u001b[0;34m\u001b[0m\u001b[0m\n\u001b[0m",
            "\u001b[0;32m<ipython-input-23-938f2d875145>\u001b[0m in \u001b[0;36mshow_gif\u001b[0;34m(self, fps, repeat_delay)\u001b[0m\n\u001b[1;32m     90\u001b[0m             \u001b[0mExceptions\u001b[0m\u001b[0;34m:\u001b[0m \u001b[0mEmptyStackOfImages\u001b[0m \u001b[0mαν\u001b[0m \u001b[0mτο\u001b[0m \u001b[0manimation\u001b[0m \u001b[0mδεν\u001b[0m \u001b[0mέχει\u001b[0m \u001b[0mούτε\u001b[0m \u001b[0mένα\u001b[0m \u001b[0mframe\u001b[0m\u001b[0;34m,\u001b[0m \u001b[0mδηλαδή\u001b[0m \u001b[0mαν\u001b[0m \u001b[0mη\u001b[0m \u001b[0mdraw_step\u001b[0m \u001b[0mδεν\u001b[0m \u001b[0mέχει\u001b[0m \u001b[0mκαλεστεί\u001b[0m \u001b[0mποτέ\u001b[0m\u001b[0;34m.\u001b[0m\u001b[0;34m\u001b[0m\u001b[0;34m\u001b[0m\u001b[0m\n\u001b[1;32m     91\u001b[0m         '''\n\u001b[0;32m---> 92\u001b[0;31m         \u001b[0mani\u001b[0m \u001b[0;34m=\u001b[0m \u001b[0mself\u001b[0m\u001b[0;34m.\u001b[0m\u001b[0mcreate_gif\u001b[0m\u001b[0;34m(\u001b[0m\u001b[0mfps\u001b[0m\u001b[0;34m,\u001b[0m \u001b[0mrepeat_delay\u001b[0m\u001b[0;34m)\u001b[0m\u001b[0;34m\u001b[0m\u001b[0;34m\u001b[0m\u001b[0m\n\u001b[0m\u001b[1;32m     93\u001b[0m         \u001b[0;31m# return HTML(ani.to_html5_video())\u001b[0m\u001b[0;34m\u001b[0m\u001b[0;34m\u001b[0m\u001b[0;34m\u001b[0m\u001b[0m\n\u001b[1;32m     94\u001b[0m         \u001b[0;32mreturn\u001b[0m \u001b[0mHTML\u001b[0m\u001b[0;34m(\u001b[0m\u001b[0mani\u001b[0m\u001b[0;34m.\u001b[0m\u001b[0mto_jshtml\u001b[0m\u001b[0;34m(\u001b[0m\u001b[0;34m)\u001b[0m\u001b[0;34m)\u001b[0m\u001b[0;34m\u001b[0m\u001b[0;34m\u001b[0m\u001b[0m\n",
            "\u001b[0;32m<ipython-input-23-938f2d875145>\u001b[0m in \u001b[0;36mcreate_gif\u001b[0;34m(self, fps, repeat_delay)\u001b[0m\n\u001b[1;32m     60\u001b[0m     \u001b[0;32mdef\u001b[0m \u001b[0mcreate_gif\u001b[0m\u001b[0;34m(\u001b[0m\u001b[0mself\u001b[0m\u001b[0;34m,\u001b[0m \u001b[0mfps\u001b[0m \u001b[0;34m=\u001b[0m \u001b[0;36m30\u001b[0m\u001b[0;34m,\u001b[0m \u001b[0mrepeat_delay\u001b[0m \u001b[0;34m=\u001b[0m \u001b[0;36m2000\u001b[0m\u001b[0;34m)\u001b[0m\u001b[0;34m:\u001b[0m\u001b[0;34m\u001b[0m\u001b[0;34m\u001b[0m\u001b[0m\n\u001b[1;32m     61\u001b[0m         \u001b[0;32mif\u001b[0m \u001b[0mlen\u001b[0m\u001b[0;34m(\u001b[0m\u001b[0mself\u001b[0m\u001b[0;34m.\u001b[0m\u001b[0mimages\u001b[0m\u001b[0;34m)\u001b[0m \u001b[0;34m==\u001b[0m \u001b[0;36m0\u001b[0m\u001b[0;34m:\u001b[0m\u001b[0;34m\u001b[0m\u001b[0;34m\u001b[0m\u001b[0m\n\u001b[0;32m---> 62\u001b[0;31m             \u001b[0;32mraise\u001b[0m \u001b[0mEmptyStackOfImages\u001b[0m\u001b[0;34m(\u001b[0m\u001b[0;34m\"Error! You have to call 'draw_step' at  first.\"\u001b[0m\u001b[0;34m)\u001b[0m\u001b[0;34m\u001b[0m\u001b[0;34m\u001b[0m\u001b[0m\n\u001b[0m\u001b[1;32m     63\u001b[0m         \u001b[0mfig\u001b[0m \u001b[0;34m=\u001b[0m \u001b[0mplt\u001b[0m\u001b[0;34m.\u001b[0m\u001b[0mfigure\u001b[0m\u001b[0;34m(\u001b[0m\u001b[0;34m)\u001b[0m\u001b[0;34m\u001b[0m\u001b[0;34m\u001b[0m\u001b[0m\n\u001b[1;32m     64\u001b[0m         \u001b[0mplt\u001b[0m\u001b[0;34m.\u001b[0m\u001b[0maxis\u001b[0m\u001b[0;34m(\u001b[0m\u001b[0;34m'off'\u001b[0m\u001b[0;34m)\u001b[0m\u001b[0;34m\u001b[0m\u001b[0;34m\u001b[0m\u001b[0m\n",
            "\u001b[0;31mEmptyStackOfImages\u001b[0m: Error! You have to call 'draw_step' at  first."
          ]
        }
      ]
    },
    {
      "cell_type": "markdown",
      "metadata": {
        "id": "KcKfD8ylAOpb"
      },
      "source": [
        "### 4.5.  "
      ]
    },
    {
      "cell_type": "code",
      "metadata": {
        "id": "tzK7U4PfJkIC",
        "colab": {
          "base_uri": "https://localhost:8080/",
          "height": 397
        },
        "outputId": "66cd07de-8dc7-4db7-c352-946054f17596"
      },
      "source": [
        "draw(filename='4.5.png')"
      ],
      "execution_count": 84,
      "outputs": [
        {
          "output_type": "display_data",
          "data": {
            "text/html": [
              "\n",
              "<canvas width=301 height=301></canvas>\n",
              "<br>\n",
              "\n",
              "<button id = \"start\" style=\"background-color: #008000\">Start</button>\n",
              "<button id = \"end\" style=\"background-color: #800000\">End</button>\n",
              "<button id = \"finish\">Finish</button>\n",
              "<script>\n",
              "\n",
              "var canvas = document.querySelector('canvas')\n",
              "var ctx = canvas.getContext('2d')\n",
              "\n",
              "for (var x = 0.5; x < 301; x += 20) {\n",
              "  ctx.moveTo(x, 0);\n",
              "  ctx.lineTo(x, 300);\n",
              "}\n",
              "\n",
              "for (var y = 0.5; y < 301; y += 20) {\n",
              "  ctx.moveTo(0, y);\n",
              "  ctx.lineTo(300, y);\n",
              "}\n",
              "\n",
              "ctx.strokeStyle = \"#000\";\n",
              "ctx.stroke();\n",
              "\n",
              "var button = document.getElementById('finish')\n",
              "var start_button = document.getElementById('start')\n",
              "var end_button = document.getElementById('end')\n",
              "\n",
              "\n",
              "start_button.onclick = ()=>{\n",
              "    ctx.fillStyle=\"#008000\";\n",
              "  }\n",
              "\n",
              "end_button.onclick = ()=>{\n",
              "    ctx.fillStyle=\"#800000\";\n",
              "  }\n",
              "   \n",
              "\n",
              "var mouse = {x: 0, y: 0}\n",
              "canvas.addEventListener('mousemove', function(e) {\n",
              "  mouse.x = e.pageX - this.offsetLeft\n",
              "  mouse.y = e.pageY - this.offsetTop\n",
              "})\n",
              "\n",
              "function getMousePos(canvas, evt) {\n",
              "        var rect = canvas.getBoundingClientRect();\n",
              "        return {\n",
              "          x: evt.x - rect.left,\n",
              "          y: evt.y - rect.top\n",
              "        };\n",
              "      }\n",
              "\n",
              "function getNearestSquare(position) {\n",
              "    var x = position.x;\n",
              "    var y = position.y;\n",
              "\n",
              "    if (x < 0 || y < 0) return null;\n",
              "    x = (Math.floor(x / 20) * 20) + 0.5\n",
              "    y = (Math.floor(y / 20) * 20) + 0.5\n",
              "    return {x: x, y: y};\n",
              "}\n",
              "\n",
              "function containsObject(obj, list) {\n",
              "    var i;\n",
              "    for (i = 0; i < list.length; i++) {\n",
              "        if (list[i].x === obj.x && list[i].y == obj.y) {\n",
              "            return i;\n",
              "        }\n",
              "    }\n",
              "    return -1;\n",
              "}\n",
              "\n",
              "borders = []\n",
              "\n",
              "canvas.onmousedown = ()=>{\n",
              "    var pos = getNearestSquare(getMousePos(canvas, mouse));\n",
              "    if (pos != null) {\n",
              "        index = containsObject(pos, borders)\n",
              "        if (index != -1){\n",
              "            borders.splice(index, 1)\n",
              "            ctx.clearRect(pos.x + 1, pos.y, 19, 19)\n",
              "        }\n",
              "        else{\n",
              "            ctx.fillRect(pos.x+1,pos.y+1,18,18);\n",
              "            borders.push(pos)\n",
              "        }\n",
              "        ctx.fillStyle=\"#000000\";\n",
              "    }\n",
              "}\n",
              "var data = new Promise(resolve=>{\n",
              "  button.onclick = ()=>{\n",
              "    resolve(canvas.toDataURL('image/png'))\n",
              "  }\n",
              "})\n",
              "</script>\n"
            ],
            "text/plain": [
              "<IPython.core.display.HTML object>"
            ]
          },
          "metadata": {}
        },
        {
          "output_type": "stream",
          "name": "stdout",
          "text": [
            "data:image/png;base64,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\n"
          ]
        },
        {
          "output_type": "execute_result",
          "data": {
            "text/plain": [
              "4929"
            ]
          },
          "metadata": {},
          "execution_count": 84
        }
      ]
    },
    {
      "cell_type": "markdown",
      "metadata": {
        "id": "gudt2lGiJrW0"
      },
      "source": [
        "#### Εισάγετε εδώ τη φωτογραφία όπως αυτή προέκυψε από την εκτέλεση και αλληλεπίδραση με το παραπάνω κελί.  \n",
        "\n",
        "\n",
        "#### Εισάγετε εδώ το σχολιασμό σας \n",
        "\n",
        "###Σχολιασμός:      \n",
        "\n",
        "Στη συγκεκριμένη περίπτωση,οι δύο αλγόριθμοι εκτελούν τα ίδια ακριβώς βήματα, διότι το μονοπάτι που ακολουθείται οδηγεί στον στόχο και δεν έχει διακλαδώσεις, ώστε να καθυστερήσει τον BFS."
      ]
    },
    {
      "cell_type": "code",
      "metadata": {
        "id": "zT3sxMjVARhy",
        "colab": {
          "base_uri": "https://localhost:8080/",
          "height": 252
        },
        "outputId": "f54505e4-2f8e-44a5-f4ad-00280ba2c600"
      },
      "source": [
        "g = load_maze('4.5.png')"
      ],
      "execution_count": 85,
      "outputs": [
        {
          "output_type": "display_data",
          "data": {
            "image/png": "[encoded data removed]",
            "text/plain": [
              "<Figure size 432x288 with 1 Axes>"
            ]
          },
          "metadata": {}
        }
      ]
    },
    {
      "cell_type": "code",
      "metadata": {
        "id": "CVET3yUWATTB",
        "colab": {
          "base_uri": "https://localhost:8080/",
          "height": 252
        },
        "outputId": "f1f2e322-a719-4a7a-c600-61c6bf498c73"
      },
      "source": [
        "pf = Pathfinder(g, c=lambda x, y:1, h = manhattan)   # change arguments to choose the appropriate pathfinding algorithm and cost/heuristic (if applicable)\n",
        "g.draw_map(pf.get_path())"
      ],
      "execution_count": 86,
      "outputs": [
        {
          "output_type": "display_data",
          "data": {
            "image/png": "[encoded data removed]",
            "text/plain": [
              "<Figure size 432x288 with 1 Axes>"
            ]
          },
          "metadata": {}
        }
      ]
    },
    {
      "cell_type": "code",
      "metadata": {
        "id": "oRtWfOvNATUr",
        "colab": {
          "base_uri": "https://localhost:8080/",
          "height": 307
        },
        "outputId": "23cd1e4f-73b5-4344-aabd-094ee65630a9"
      },
      "source": [
        "pf.vis.show_gif()"
      ],
      "execution_count": 87,
      "outputs": [
        {
          "output_type": "error",
          "ename": "EmptyStackOfImages",
          "evalue": "ignored",
          "traceback": [
            "\u001b[0;31m---------------------------------------------------------------------------\u001b[0m",
            "\u001b[0;31mEmptyStackOfImages\u001b[0m                        Traceback (most recent call last)",
            "\u001b[0;32m<ipython-input-87-03109645b455>\u001b[0m in \u001b[0;36m<module>\u001b[0;34m()\u001b[0m\n\u001b[0;32m----> 1\u001b[0;31m \u001b[0mpf\u001b[0m\u001b[0;34m.\u001b[0m\u001b[0mvis\u001b[0m\u001b[0;34m.\u001b[0m\u001b[0mshow_gif\u001b[0m\u001b[0;34m(\u001b[0m\u001b[0;34m)\u001b[0m\u001b[0;34m\u001b[0m\u001b[0;34m\u001b[0m\u001b[0m\n\u001b[0m",
            "\u001b[0;32m<ipython-input-70-938f2d875145>\u001b[0m in \u001b[0;36mshow_gif\u001b[0;34m(self, fps, repeat_delay)\u001b[0m\n\u001b[1;32m     90\u001b[0m             \u001b[0mExceptions\u001b[0m\u001b[0;34m:\u001b[0m \u001b[0mEmptyStackOfImages\u001b[0m \u001b[0mαν\u001b[0m \u001b[0mτο\u001b[0m \u001b[0manimation\u001b[0m \u001b[0mδεν\u001b[0m \u001b[0mέχει\u001b[0m \u001b[0mούτε\u001b[0m \u001b[0mένα\u001b[0m \u001b[0mframe\u001b[0m\u001b[0;34m,\u001b[0m \u001b[0mδηλαδή\u001b[0m \u001b[0mαν\u001b[0m \u001b[0mη\u001b[0m \u001b[0mdraw_step\u001b[0m \u001b[0mδεν\u001b[0m \u001b[0mέχει\u001b[0m \u001b[0mκαλεστεί\u001b[0m \u001b[0mποτέ\u001b[0m\u001b[0;34m.\u001b[0m\u001b[0;34m\u001b[0m\u001b[0;34m\u001b[0m\u001b[0m\n\u001b[1;32m     91\u001b[0m         '''\n\u001b[0;32m---> 92\u001b[0;31m         \u001b[0mani\u001b[0m \u001b[0;34m=\u001b[0m \u001b[0mself\u001b[0m\u001b[0;34m.\u001b[0m\u001b[0mcreate_gif\u001b[0m\u001b[0;34m(\u001b[0m\u001b[0mfps\u001b[0m\u001b[0;34m,\u001b[0m \u001b[0mrepeat_delay\u001b[0m\u001b[0;34m)\u001b[0m\u001b[0;34m\u001b[0m\u001b[0;34m\u001b[0m\u001b[0m\n\u001b[0m\u001b[1;32m     93\u001b[0m         \u001b[0;31m# return HTML(ani.to_html5_video())\u001b[0m\u001b[0;34m\u001b[0m\u001b[0;34m\u001b[0m\u001b[0;34m\u001b[0m\u001b[0m\n\u001b[1;32m     94\u001b[0m         \u001b[0;32mreturn\u001b[0m \u001b[0mHTML\u001b[0m\u001b[0;34m(\u001b[0m\u001b[0mani\u001b[0m\u001b[0;34m.\u001b[0m\u001b[0mto_jshtml\u001b[0m\u001b[0;34m(\u001b[0m\u001b[0;34m)\u001b[0m\u001b[0;34m)\u001b[0m\u001b[0;34m\u001b[0m\u001b[0;34m\u001b[0m\u001b[0m\n",
            "\u001b[0;32m<ipython-input-70-938f2d875145>\u001b[0m in \u001b[0;36mcreate_gif\u001b[0;34m(self, fps, repeat_delay)\u001b[0m\n\u001b[1;32m     60\u001b[0m     \u001b[0;32mdef\u001b[0m \u001b[0mcreate_gif\u001b[0m\u001b[0;34m(\u001b[0m\u001b[0mself\u001b[0m\u001b[0;34m,\u001b[0m \u001b[0mfps\u001b[0m \u001b[0;34m=\u001b[0m \u001b[0;36m30\u001b[0m\u001b[0;34m,\u001b[0m \u001b[0mrepeat_delay\u001b[0m \u001b[0;34m=\u001b[0m \u001b[0;36m2000\u001b[0m\u001b[0;34m)\u001b[0m\u001b[0;34m:\u001b[0m\u001b[0;34m\u001b[0m\u001b[0;34m\u001b[0m\u001b[0m\n\u001b[1;32m     61\u001b[0m         \u001b[0;32mif\u001b[0m \u001b[0mlen\u001b[0m\u001b[0;34m(\u001b[0m\u001b[0mself\u001b[0m\u001b[0;34m.\u001b[0m\u001b[0mimages\u001b[0m\u001b[0;34m)\u001b[0m \u001b[0;34m==\u001b[0m \u001b[0;36m0\u001b[0m\u001b[0;34m:\u001b[0m\u001b[0;34m\u001b[0m\u001b[0;34m\u001b[0m\u001b[0m\n\u001b[0;32m---> 62\u001b[0;31m             \u001b[0;32mraise\u001b[0m \u001b[0mEmptyStackOfImages\u001b[0m\u001b[0;34m(\u001b[0m\u001b[0;34m\"Error! You have to call 'draw_step' at  first.\"\u001b[0m\u001b[0;34m)\u001b[0m\u001b[0;34m\u001b[0m\u001b[0;34m\u001b[0m\u001b[0m\n\u001b[0m\u001b[1;32m     63\u001b[0m         \u001b[0mfig\u001b[0m \u001b[0;34m=\u001b[0m \u001b[0mplt\u001b[0m\u001b[0;34m.\u001b[0m\u001b[0mfigure\u001b[0m\u001b[0;34m(\u001b[0m\u001b[0;34m)\u001b[0m\u001b[0;34m\u001b[0m\u001b[0;34m\u001b[0m\u001b[0m\n\u001b[1;32m     64\u001b[0m         \u001b[0mplt\u001b[0m\u001b[0;34m.\u001b[0m\u001b[0maxis\u001b[0m\u001b[0;34m(\u001b[0m\u001b[0;34m'off'\u001b[0m\u001b[0;34m)\u001b[0m\u001b[0;34m\u001b[0m\u001b[0;34m\u001b[0m\u001b[0m\n",
            "\u001b[0;31mEmptyStackOfImages\u001b[0m: Error! You have to call 'draw_step' at  first."
          ]
        }
      ]
    }
  ]
}